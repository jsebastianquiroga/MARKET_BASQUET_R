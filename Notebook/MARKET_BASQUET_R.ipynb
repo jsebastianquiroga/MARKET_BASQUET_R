{
  "cells": [
    {
      "cell_type": "markdown",
      "metadata": {
        "id": "view-in-github",
        "colab_type": "text"
      },
      "source": [
        "<a href=\"https://colab.research.google.com/github/jsebastianquiroga/MARKET_BASQUET_R/blob/main/Notebook/MARKET_BASQUET_R.ipynb\" target=\"_parent\"><img src=\"https://colab.research.google.com/assets/colab-badge.svg\" alt=\"Open In Colab\"/></a>"
      ]
    },
    {
      "cell_type": "markdown",
      "source": [
        "# <img style=\"float: center; padding-right: 10px;\" src=\"https://www.pikpng.com/pngl/b/467-4670553_universidad-javeriana-esslingen-am-neckar-clipart.png\" width=\"100\" height=\"150\">\n",
        "\n",
        "## MARKET BASQUET - INSTACARD - R\n",
        "\n",
        "PROFESSOR:ANA MARIA BELTRAN\n",
        "\n",
        "***PRESENT BY*** :</P>\n",
        "**JUAN SEBASTÍAN QUIROGA**</P>\n",
        "**LEONARDO GARCÍA**</P>\n"
      ],
      "metadata": {
        "id": "RN6pER9abAuX"
      }
    },
    {
      "cell_type": "markdown",
      "metadata": {
        "id": "v1sYna3FyV02"
      },
      "source": [
        "# INSTALL OR CALL THE PACKAGES THAT WOULD BE NEEDED"
      ]
    },
    {
      "cell_type": "code",
      "execution_count": null,
      "metadata": {
        "colab": {
          "base_uri": "https://localhost:8080/"
        },
        "id": "lFXAtEBNv50B",
        "outputId": "376997e0-8094-4889-f19c-424b5e3bf738"
      },
      "outputs": [
        {
          "output_type": "stream",
          "name": "stdout",
          "text": [
            "[1] \"R version 4.2.1 (2022-06-23)\"\n"
          ]
        },
        {
          "output_type": "stream",
          "name": "stderr",
          "text": [
            "Loading required package: readxl\n",
            "\n",
            "Loading required package: gmodels\n",
            "\n",
            "Warning message in library(package, lib.loc = lib.loc, character.only = TRUE, logical.return = TRUE, :\n",
            "“there is no package called ‘gmodels’”\n",
            "Installing package into ‘/usr/local/lib/R/site-library’\n",
            "(as ‘lib’ is unspecified)\n",
            "\n",
            "also installing the dependencies ‘gtools’, ‘gdata’\n",
            "\n",
            "\n",
            "Loading required package: psych\n",
            "\n",
            "Warning message in library(package, lib.loc = lib.loc, character.only = TRUE, logical.return = TRUE, :\n",
            "“there is no package called ‘psych’”\n",
            "Installing package into ‘/usr/local/lib/R/site-library’\n",
            "(as ‘lib’ is unspecified)\n",
            "\n",
            "also installing the dependency ‘mnormt’\n",
            "\n",
            "\n",
            "Loading required package: arules\n",
            "\n",
            "Warning message in library(package, lib.loc = lib.loc, character.only = TRUE, logical.return = TRUE, :\n",
            "“there is no package called ‘arules’”\n",
            "Installing package into ‘/usr/local/lib/R/site-library’\n",
            "(as ‘lib’ is unspecified)\n",
            "\n",
            "Loading required package: arulesViz\n",
            "\n",
            "Warning message in library(package, lib.loc = lib.loc, character.only = TRUE, logical.return = TRUE, :\n",
            "“there is no package called ‘arulesViz’”\n",
            "Installing package into ‘/usr/local/lib/R/site-library’\n",
            "(as ‘lib’ is unspecified)\n",
            "\n",
            "also installing the dependencies ‘iterators’, ‘foreach’, ‘zoo’, ‘tweenr’, ‘polyclip’, ‘RcppEigen’, ‘gridExtra’, ‘RcppArmadillo’, ‘later’, ‘TSP’, ‘qap’, ‘gclus’, ‘ca’, ‘registry’, ‘lmtest’, ‘Rcpp’, ‘ggforce’, ‘ggrepel’, ‘viridis’, ‘tidygraph’, ‘graphlayouts’, ‘htmlwidgets’, ‘crosstalk’, ‘promises’, ‘lazyeval’, ‘seriation’, ‘vcd’, ‘igraph’, ‘scatterplot3d’, ‘ggraph’, ‘DT’, ‘plotly’, ‘visNetwork’\n",
            "\n",
            "\n"
          ]
        }
      ],
      "source": [
        "print(R.version.string)\n",
        "if (!require('readxl')) install.packages('readxl')\n",
        "if (!require('gmodels')) install.packages('gmodels')\n",
        "if (!require('psych')) install.packages('psych')\n",
        "if (!require('arules')) install.packages('arules')\n",
        "if (!require('arulesViz')) install.packages('arulesViz')\n",
        "if (!require('vcd')) install.packages('vcd')\n",
        "if (!require('tidyverse')) install.packages('tidyverse')\n",
        "if (!require('ggplot2')) install.packages('ggplot2')\n",
        "if (!require('dplyr')) install.packages('dplyr')\n",
        "if (!require('treemap')) install.packages('treemap')\n",
        "if (!require('treemapify')) install.packages('treemapify')\n",
        "if (!require('splitstackshape')) install.packages('splitstackshape')\n",
        "if (!require('esquisse')) install.packages('esquisse')\n",
        "if (!require('data.table')) install.packages('data.table')\n",
        "if (!require('arulesViz')) install.packages('arulesViz')\n",
        "if (!require('googledrive')) install.packages('googledrive')\n",
        "if (!require('httpuv')) install.packages('httpuv')\n",
        "if (!require('googledrive')) install.packages('googledrive')\n",
        "if (!require('arulesViz')) install.packages('arulesViz')\n",
        "if (!require('arulesViz')) install.packages('arulesViz')\n",
        "if (!require('arulesViz')) install.packages('arulesViz')\n",
        "\n",
        "\n",
        "library(\"googledrive\") \n",
        "library(\"httpuv\")\n",
        "library(\"googledrive\")"
      ]
    },
    {
      "cell_type": "code",
      "execution_count": null,
      "metadata": {
        "colab": {
          "base_uri": "https://localhost:8080/"
        },
        "id": "AmgVOQqfAHSd",
        "outputId": "d23ca4f5-0e2e-4649-bb6a-4d0625e4ad5c"
      },
      "outputs": [
        {
          "output_type": "stream",
          "name": "stderr",
          "text": [
            "Installing package into ‘/usr/local/lib/R/site-library’\n",
            "(as ‘lib’ is unspecified)\n",
            "\n",
            "Installing package into ‘/usr/local/lib/R/site-library’\n",
            "(as ‘lib’ is unspecified)\n",
            "\n"
          ]
        }
      ],
      "source": [
        "if (file.exists(\"/usr/local/lib/python3.7/dist-packages/google/colab/_ipython.py\")) { #may need to update python version occasionally\n",
        "  install.packages(\"R.utils\")\n",
        "  library(\"R.utils\")\n",
        "  library(\"httr\")\n",
        "  my_check <- function() {return(TRUE)}\n",
        "  reassignInPackage(\"is_interactive\", pkgName = \"httr\", my_check) \n",
        "  options(rlang_interactive=TRUE)\n",
        "}"
      ]
    },
    {
      "cell_type": "code",
      "execution_count": null,
      "metadata": {
        "colab": {
          "base_uri": "https://localhost:8080/"
        },
        "id": "b7rLg3pkv-Ka",
        "outputId": "d4e38733-8860-4d24-d0ed-5e7b0f9a3fd3"
      },
      "outputs": [
        {
          "output_type": "stream",
          "name": "stderr",
          "text": [
            "Installing package into ‘/usr/local/lib/R/site-library’\n",
            "(as ‘lib’ is unspecified)\n",
            "\n",
            "also installing the dependencies ‘R.oo’, ‘R.methodsS3’\n",
            "\n",
            "\n",
            "Loading required package: R.oo\n",
            "\n",
            "Loading required package: R.methodsS3\n",
            "\n",
            "R.methodsS3 v1.8.1 (2020-08-26 16:20:06 UTC) successfully loaded. See ?R.methodsS3 for help.\n",
            "\n",
            "R.oo v1.24.0 (2020-08-26 16:11:58 UTC) successfully loaded. See ?R.oo for help.\n",
            "\n",
            "\n",
            "Attaching package: ‘R.oo’\n",
            "\n",
            "\n",
            "The following object is masked from ‘package:R.methodsS3’:\n",
            "\n",
            "    throw\n",
            "\n",
            "\n",
            "The following objects are masked from ‘package:methods’:\n",
            "\n",
            "    getClasses, getMethods\n",
            "\n",
            "\n",
            "The following objects are masked from ‘package:base’:\n",
            "\n",
            "    attach, detach, load, save\n",
            "\n",
            "\n",
            "R.utils v2.11.0 (2021-09-26 08:30:02 UTC) successfully loaded. See ?R.utils for help.\n",
            "\n",
            "\n",
            "Attaching package: ‘R.utils’\n",
            "\n",
            "\n",
            "The following object is masked from ‘package:tidyr’:\n",
            "\n",
            "    extract\n",
            "\n",
            "\n",
            "The following object is masked from ‘package:utils’:\n",
            "\n",
            "    timestamp\n",
            "\n",
            "\n",
            "The following objects are masked from ‘package:base’:\n",
            "\n",
            "    cat, commandArgs, getOption, inherits, isOpen, nullfile, parse,\n",
            "    warnings\n",
            "\n",
            "\n"
          ]
        }
      ],
      "source": []
    },
    {
      "cell_type": "code",
      "execution_count": null,
      "metadata": {
        "colab": {
          "base_uri": "https://localhost:8080/"
        },
        "id": "tHg6SqdFwATe",
        "outputId": "bacc8f35-4c5c-43a1-887a-88a0f38204d6"
      },
      "outputs": [
        {
          "output_type": "stream",
          "name": "stderr",
          "text": [
            "Please point your browser to the following url: \n",
            "\n",
            "https://accounts.google.com/o/oauth2/auth?client_id=603366585132-dpeg5tt0et3go5of2374d83ifevk5086.apps.googleusercontent.com&scope=https%3A%2F%2Fwww.googleapis.com%2Fauth%2Fdrive%20https%3A%2F%2Fwww.googleapis.com%2Fauth%2Fuserinfo.email&redirect_uri=urn%3Aietf%3Awg%3Aoauth%3A2.0%3Aoob&response_type=code\n",
            "\n"
          ]
        },
        {
          "name": "stdout",
          "output_type": "stream",
          "text": [
            "Enter authorization code: 4/1AX4XfWiXR9yyWceS7WIqr0j1qGwz4HCOCg3UiCc_5MWNcRhesOkDNfl1HT4\n"
          ]
        }
      ],
      "source": [
        "drive_auth(use_oob = TRUE, cache = FALSE)"
      ]
    },
    {
      "cell_type": "markdown",
      "metadata": {
        "id": "ormF-JbSJwuz"
      },
      "source": [
        "4/1AX4XfWghVRlBnM0gNU1aRcV4tlnD1jOnLwzSIij08fJPrJvga9m0Qbksxwc"
      ]
    },
    {
      "cell_type": "code",
      "execution_count": null,
      "metadata": {
        "colab": {
          "base_uri": "https://localhost:8080/"
        },
        "id": "oLiC-tCGwCg1",
        "outputId": "f7d1b66a-6fb2-4c5c-ef58-fb33897e4db5"
      },
      "outputs": [
        {
          "output_type": "stream",
          "name": "stderr",
          "text": [
            "\n",
            "\n",
            "\n",
            "\n",
            "→ Files retrieved so far: 100\n",
            "\n",
            "→ Files retrieved so far: 200\n",
            "\n",
            "→ Files retrieved so far: 300\n",
            "\n",
            "→ Files retrieved so far: 400\n",
            "\n",
            "→ Files retrieved so far: 500\n",
            "\n",
            "→ Files retrieved so far: 600\n",
            "\n",
            "→ Files retrieved so far: 700\n",
            "\n",
            "→ Files retrieved so far: 800\n",
            "\n",
            "→ Files retrieved so far: 900\n",
            "\n",
            "→ Files retrieved so far: 1000\n",
            "\n",
            "→ Files retrieved so far: 1100\n",
            "\n",
            "→ Files retrieved so far: 1200\n",
            "\n",
            "→ Files retrieved so far: 1300\n",
            "\n",
            "→ Files retrieved so far: 1400\n",
            "\n",
            "→ Files retrieved so far: 1500\n",
            "\n",
            "→ Files retrieved so far: 1600\n",
            "\n",
            "→ Files retrieved so far: 1700\n",
            "\n",
            "→ Files retrieved so far: 1800\n",
            "\n",
            "→ Files retrieved so far: 1900\n",
            "\n",
            "→ Files retrieved so far: 2000\n",
            "\n",
            "→ Files retrieved so far: 2100\n",
            "\n",
            "→ Files retrieved so far: 2200\n",
            "\n",
            "→ Files retrieved so far: 2300\n",
            "\n",
            "→ Files retrieved so far: 2400\n",
            "\n",
            "→ Files retrieved so far: 2500\n",
            "\n",
            "→ Files retrieved so far: 2600\n",
            "\n",
            "\u001b[32m✔\u001b[39m The input `path` resolved to exactly 1 file.\n",
            "\n",
            "File downloaded:\n",
            "\n",
            "\u001b[36m•\u001b[39m \u001b[36maisles.csv\u001b[39m \u001b[90m<id: 1YoAGs7GcsG_VtgYTdurj_3QBWTtiQ1SU>\u001b[39m\n",
            "\n",
            "Saved locally as:\n",
            "\n",
            "\u001b[36m•\u001b[39m \u001b[34maisles.csv\u001b[39m\n",
            "\n",
            "\n",
            "\n",
            "\n",
            "\n",
            "→ Files retrieved so far: 100\n",
            "\n",
            "→ Files retrieved so far: 200\n",
            "\n",
            "→ Files retrieved so far: 300\n",
            "\n",
            "→ Files retrieved so far: 400\n",
            "\n",
            "→ Files retrieved so far: 500\n",
            "\n",
            "→ Files retrieved so far: 600\n",
            "\n",
            "→ Files retrieved so far: 700\n",
            "\n",
            "→ Files retrieved so far: 800\n",
            "\n",
            "→ Files retrieved so far: 900\n",
            "\n",
            "→ Files retrieved so far: 1000\n",
            "\n",
            "→ Files retrieved so far: 1100\n",
            "\n",
            "→ Files retrieved so far: 1200\n",
            "\n",
            "→ Files retrieved so far: 1300\n",
            "\n",
            "→ Files retrieved so far: 1400\n",
            "\n",
            "→ Files retrieved so far: 1500\n",
            "\n",
            "→ Files retrieved so far: 1600\n",
            "\n",
            "→ Files retrieved so far: 1700\n",
            "\n",
            "→ Files retrieved so far: 1800\n",
            "\n",
            "→ Files retrieved so far: 1900\n",
            "\n",
            "→ Files retrieved so far: 2000\n",
            "\n",
            "→ Files retrieved so far: 2100\n",
            "\n",
            "→ Files retrieved so far: 2200\n",
            "\n",
            "→ Files retrieved so far: 2300\n",
            "\n",
            "→ Files retrieved so far: 2400\n",
            "\n",
            "\u001b[32m✔\u001b[39m The input `path` resolved to exactly 1 file.\n",
            "\n",
            "File downloaded:\n",
            "\n",
            "\u001b[36m•\u001b[39m \u001b[36mdepartments.csv\u001b[39m \u001b[90m<id: 1LI0v9syDLEExydLriDpeI42RKEeyoCKB>\u001b[39m\n",
            "\n",
            "Saved locally as:\n",
            "\n",
            "\u001b[36m•\u001b[39m \u001b[34mdepartments.csv\u001b[39m\n",
            "\n",
            "\n",
            "\n",
            "\n",
            "\n",
            "→ Files retrieved so far: 100\n",
            "\n",
            "→ Files retrieved so far: 200\n",
            "\n",
            "→ Files retrieved so far: 300\n",
            "\n",
            "→ Files retrieved so far: 400\n",
            "\n",
            "→ Files retrieved so far: 500\n",
            "\n",
            "→ Files retrieved so far: 600\n",
            "\n",
            "→ Files retrieved so far: 700\n",
            "\n",
            "→ Files retrieved so far: 800\n",
            "\n",
            "→ Files retrieved so far: 900\n",
            "\n",
            "→ Files retrieved so far: 1000\n",
            "\n",
            "→ Files retrieved so far: 1100\n",
            "\n",
            "→ Files retrieved so far: 1200\n",
            "\n",
            "→ Files retrieved so far: 1300\n",
            "\n",
            "→ Files retrieved so far: 1400\n",
            "\n",
            "→ Files retrieved so far: 1500\n",
            "\n",
            "→ Files retrieved so far: 1600\n",
            "\n",
            "→ Files retrieved so far: 1700\n",
            "\n",
            "→ Files retrieved so far: 1800\n",
            "\n",
            "→ Files retrieved so far: 1900\n",
            "\n",
            "→ Files retrieved so far: 2000\n",
            "\n",
            "→ Files retrieved so far: 2100\n",
            "\n",
            "→ Files retrieved so far: 2200\n",
            "\n",
            "→ Files retrieved so far: 2300\n",
            "\n",
            "\u001b[32m✔\u001b[39m The input `path` resolved to exactly 1 file.\n",
            "\n",
            "File downloaded:\n",
            "\n",
            "\u001b[36m•\u001b[39m \u001b[36mproducts.csv\u001b[39m \u001b[90m<id: 1q_4HJlNohJVoqGwKwGRk3qiYpO66kP2x>\u001b[39m\n",
            "\n",
            "Saved locally as:\n",
            "\n",
            "\u001b[36m•\u001b[39m \u001b[34mproducts.csv\u001b[39m\n",
            "\n",
            "\n",
            "\n",
            "\n",
            "\n",
            "→ Files retrieved so far: 100\n",
            "\n",
            "→ Files retrieved so far: 200\n",
            "\n",
            "→ Files retrieved so far: 300\n",
            "\n",
            "→ Files retrieved so far: 400\n",
            "\n",
            "→ Files retrieved so far: 500\n",
            "\n",
            "→ Files retrieved so far: 600\n",
            "\n",
            "→ Files retrieved so far: 700\n",
            "\n",
            "→ Files retrieved so far: 800\n",
            "\n",
            "→ Files retrieved so far: 900\n",
            "\n",
            "→ Files retrieved so far: 1000\n",
            "\n",
            "→ Files retrieved so far: 1100\n",
            "\n",
            "→ Files retrieved so far: 1200\n",
            "\n",
            "→ Files retrieved so far: 1300\n",
            "\n",
            "→ Files retrieved so far: 1400\n",
            "\n",
            "→ Files retrieved so far: 1500\n",
            "\n",
            "→ Files retrieved so far: 1600\n",
            "\n",
            "→ Files retrieved so far: 1700\n",
            "\n",
            "→ Files retrieved so far: 1800\n",
            "\n",
            "→ Files retrieved so far: 1900\n",
            "\n",
            "→ Files retrieved so far: 2000\n",
            "\n",
            "→ Files retrieved so far: 2100\n",
            "\n",
            "→ Files retrieved so far: 2200\n",
            "\n",
            "→ Files retrieved so far: 2300\n",
            "\n",
            "→ Files retrieved so far: 2400\n",
            "\n",
            "\u001b[32m✔\u001b[39m The input `path` resolved to exactly 1 file.\n",
            "\n",
            "File downloaded:\n",
            "\n",
            "\u001b[36m•\u001b[39m \u001b[36morder_products__prior.csv\u001b[39m \u001b[90m<id: 1THDwQJ40y5307YEQfKTutaVmwc-KAFc4>\u001b[39m\n",
            "\n",
            "Saved locally as:\n",
            "\n",
            "\u001b[36m•\u001b[39m \u001b[34morder_products__prior.csv\u001b[39m\n",
            "\n"
          ]
        }
      ],
      "source": [
        "a <- drive_get(\"~/Colab Notebooks/Taller_grupal_1/aisles.csv\")\n",
        "drive_download(a)\n",
        "\n",
        "b <- drive_get(\"~/Colab Notebooks/Taller_grupal_1/departments.csv\")\n",
        "drive_download(b)\n",
        "\n",
        "c <- drive_get(\"~/Colab Notebooks/Taller_grupal_1/products.csv\")\n",
        "drive_download(c)\n",
        "\n",
        "d <- drive_get(\"~/Colab Notebooks/Taller_grupal_1/order_products__prior.csv\")\n",
        "drive_download(d)"
      ]
    },
    {
      "cell_type": "markdown",
      "metadata": {
        "id": "4nUVQyxFyeeP"
      },
      "source": [
        "# READ THE CVS AND ASSIGN TO A VARIABLES"
      ]
    },
    {
      "cell_type": "code",
      "execution_count": null,
      "metadata": {
        "id": "2oJosIlZDe8u"
      },
      "outputs": [],
      "source": [
        "aisles.df <- read.csv(\"aisles.csv\", header=TRUE, sep=\",\") \n",
        "departments.df <- read.csv(\"departments.csv\", header=TRUE, sep=\",\")\n",
        "products.df <- read.csv(\"products.csv\", header=TRUE, sep=\",\") %>% select(product_id, product_name, department_id, aisle_id)\n",
        "op_prior.df <- read.csv(\"order_products__prior.csv\", header=TRUE, sep=\",\") %>% select(order_id, product_id)"
      ]
    },
    {
      "cell_type": "markdown",
      "metadata": {
        "id": "iR4mrME3yvwu"
      },
      "source": [
        "# TRANSFORM THE VARIABLES BY JOINS AND EXPLORE THE FRECUENCY (falta comportamiento de compra)\n"
      ]
    },
    {
      "cell_type": "code",
      "execution_count": null,
      "metadata": {
        "colab": {
          "base_uri": "https://localhost:8080/",
          "height": 286
        },
        "id": "uXnJz5V22acP",
        "outputId": "241ec1bd-74b1-4d32-ae9b-4064ac3c3ace"
      },
      "outputs": [
        {
          "output_type": "display_data",
          "data": {
            "text/html": [
              "<table class=\"dataframe\">\n",
              "<caption>A data.frame: 6 × 5</caption>\n",
              "<thead>\n",
              "\t<tr><th></th><th scope=col>product_id</th><th scope=col>product_name</th><th scope=col>department_id</th><th scope=col>aisle_id</th><th scope=col>department</th></tr>\n",
              "\t<tr><th></th><th scope=col>&lt;int&gt;</th><th scope=col>&lt;chr&gt;</th><th scope=col>&lt;int&gt;</th><th scope=col>&lt;int&gt;</th><th scope=col>&lt;chr&gt;</th></tr>\n",
              "</thead>\n",
              "<tbody>\n",
              "\t<tr><th scope=row>1</th><td>1</td><td>Chocolate Sandwich Cookies                                       </td><td>19</td><td> 61</td><td>snacks       </td></tr>\n",
              "\t<tr><th scope=row>2</th><td>2</td><td>All-Seasons Salt                                                 </td><td>13</td><td>104</td><td>pantry       </td></tr>\n",
              "\t<tr><th scope=row>3</th><td>3</td><td>Robust Golden Unsweetened Oolong Tea                             </td><td> 7</td><td> 94</td><td>beverages    </td></tr>\n",
              "\t<tr><th scope=row>4</th><td>4</td><td>Smart Ones Classic Favorites Mini Rigatoni With Vodka Cream Sauce</td><td> 1</td><td> 38</td><td>frozen       </td></tr>\n",
              "\t<tr><th scope=row>5</th><td>5</td><td>Green Chile Anytime Sauce                                        </td><td>13</td><td>  5</td><td>pantry       </td></tr>\n",
              "\t<tr><th scope=row>6</th><td>6</td><td>Dry Nose Oil                                                     </td><td>11</td><td> 11</td><td>personal care</td></tr>\n",
              "</tbody>\n",
              "</table>\n"
            ],
            "text/markdown": "\nA data.frame: 6 × 5\n\n| <!--/--> | product_id &lt;int&gt; | product_name &lt;chr&gt; | department_id &lt;int&gt; | aisle_id &lt;int&gt; | department &lt;chr&gt; |\n|---|---|---|---|---|---|\n| 1 | 1 | Chocolate Sandwich Cookies                                        | 19 |  61 | snacks        |\n| 2 | 2 | All-Seasons Salt                                                  | 13 | 104 | pantry        |\n| 3 | 3 | Robust Golden Unsweetened Oolong Tea                              |  7 |  94 | beverages     |\n| 4 | 4 | Smart Ones Classic Favorites Mini Rigatoni With Vodka Cream Sauce |  1 |  38 | frozen        |\n| 5 | 5 | Green Chile Anytime Sauce                                         | 13 |   5 | pantry        |\n| 6 | 6 | Dry Nose Oil                                                      | 11 |  11 | personal care |\n\n",
            "text/latex": "A data.frame: 6 × 5\n\\begin{tabular}{r|lllll}\n  & product\\_id & product\\_name & department\\_id & aisle\\_id & department\\\\\n  & <int> & <chr> & <int> & <int> & <chr>\\\\\n\\hline\n\t1 & 1 & Chocolate Sandwich Cookies                                        & 19 &  61 & snacks       \\\\\n\t2 & 2 & All-Seasons Salt                                                  & 13 & 104 & pantry       \\\\\n\t3 & 3 & Robust Golden Unsweetened Oolong Tea                              &  7 &  94 & beverages    \\\\\n\t4 & 4 & Smart Ones Classic Favorites Mini Rigatoni With Vodka Cream Sauce &  1 &  38 & frozen       \\\\\n\t5 & 5 & Green Chile Anytime Sauce                                         & 13 &   5 & pantry       \\\\\n\t6 & 6 & Dry Nose Oil                                                      & 11 &  11 & personal care\\\\\n\\end{tabular}\n",
            "text/plain": [
              "  product_id product_name                                                     \n",
              "1 1          Chocolate Sandwich Cookies                                       \n",
              "2 2          All-Seasons Salt                                                 \n",
              "3 3          Robust Golden Unsweetened Oolong Tea                             \n",
              "4 4          Smart Ones Classic Favorites Mini Rigatoni With Vodka Cream Sauce\n",
              "5 5          Green Chile Anytime Sauce                                        \n",
              "6 6          Dry Nose Oil                                                     \n",
              "  department_id aisle_id department   \n",
              "1 19             61      snacks       \n",
              "2 13            104      pantry       \n",
              "3  7             94      beverages    \n",
              "4  1             38      frozen       \n",
              "5 13              5      pantry       \n",
              "6 11             11      personal care"
            ]
          },
          "metadata": {}
        }
      ],
      "source": [
        "df.dep <- inner_join(products.df,departments.df, by=\"department_id\")\n",
        "head(df.dep)"
      ]
    },
    {
      "cell_type": "code",
      "execution_count": null,
      "metadata": {
        "colab": {
          "base_uri": "https://localhost:8080/",
          "height": 286
        },
        "id": "tUkSAviHEUZZ",
        "outputId": "4986fb67-c25c-4586-8289-a932cbb70f64"
      },
      "outputs": [
        {
          "output_type": "display_data",
          "data": {
            "text/html": [
              "<table class=\"dataframe\">\n",
              "<caption>A data.frame: 6 × 6</caption>\n",
              "<thead>\n",
              "\t<tr><th></th><th scope=col>product_id</th><th scope=col>product_name</th><th scope=col>department_id</th><th scope=col>aisle_id</th><th scope=col>department</th><th scope=col>aisle</th></tr>\n",
              "\t<tr><th></th><th scope=col>&lt;int&gt;</th><th scope=col>&lt;chr&gt;</th><th scope=col>&lt;int&gt;</th><th scope=col>&lt;int&gt;</th><th scope=col>&lt;chr&gt;</th><th scope=col>&lt;chr&gt;</th></tr>\n",
              "</thead>\n",
              "<tbody>\n",
              "\t<tr><th scope=row>1</th><td>1</td><td>Chocolate Sandwich Cookies                                       </td><td>19</td><td> 61</td><td>snacks       </td><td>cookies cakes             </td></tr>\n",
              "\t<tr><th scope=row>2</th><td>2</td><td>All-Seasons Salt                                                 </td><td>13</td><td>104</td><td>pantry       </td><td>spices seasonings         </td></tr>\n",
              "\t<tr><th scope=row>3</th><td>3</td><td>Robust Golden Unsweetened Oolong Tea                             </td><td> 7</td><td> 94</td><td>beverages    </td><td>tea                       </td></tr>\n",
              "\t<tr><th scope=row>4</th><td>4</td><td>Smart Ones Classic Favorites Mini Rigatoni With Vodka Cream Sauce</td><td> 1</td><td> 38</td><td>frozen       </td><td>frozen meals              </td></tr>\n",
              "\t<tr><th scope=row>5</th><td>5</td><td>Green Chile Anytime Sauce                                        </td><td>13</td><td>  5</td><td>pantry       </td><td>marinades meat preparation</td></tr>\n",
              "\t<tr><th scope=row>6</th><td>6</td><td>Dry Nose Oil                                                     </td><td>11</td><td> 11</td><td>personal care</td><td>cold flu allergy          </td></tr>\n",
              "</tbody>\n",
              "</table>\n"
            ],
            "text/markdown": "\nA data.frame: 6 × 6\n\n| <!--/--> | product_id &lt;int&gt; | product_name &lt;chr&gt; | department_id &lt;int&gt; | aisle_id &lt;int&gt; | department &lt;chr&gt; | aisle &lt;chr&gt; |\n|---|---|---|---|---|---|---|\n| 1 | 1 | Chocolate Sandwich Cookies                                        | 19 |  61 | snacks        | cookies cakes              |\n| 2 | 2 | All-Seasons Salt                                                  | 13 | 104 | pantry        | spices seasonings          |\n| 3 | 3 | Robust Golden Unsweetened Oolong Tea                              |  7 |  94 | beverages     | tea                        |\n| 4 | 4 | Smart Ones Classic Favorites Mini Rigatoni With Vodka Cream Sauce |  1 |  38 | frozen        | frozen meals               |\n| 5 | 5 | Green Chile Anytime Sauce                                         | 13 |   5 | pantry        | marinades meat preparation |\n| 6 | 6 | Dry Nose Oil                                                      | 11 |  11 | personal care | cold flu allergy           |\n\n",
            "text/latex": "A data.frame: 6 × 6\n\\begin{tabular}{r|llllll}\n  & product\\_id & product\\_name & department\\_id & aisle\\_id & department & aisle\\\\\n  & <int> & <chr> & <int> & <int> & <chr> & <chr>\\\\\n\\hline\n\t1 & 1 & Chocolate Sandwich Cookies                                        & 19 &  61 & snacks        & cookies cakes             \\\\\n\t2 & 2 & All-Seasons Salt                                                  & 13 & 104 & pantry        & spices seasonings         \\\\\n\t3 & 3 & Robust Golden Unsweetened Oolong Tea                              &  7 &  94 & beverages     & tea                       \\\\\n\t4 & 4 & Smart Ones Classic Favorites Mini Rigatoni With Vodka Cream Sauce &  1 &  38 & frozen        & frozen meals              \\\\\n\t5 & 5 & Green Chile Anytime Sauce                                         & 13 &   5 & pantry        & marinades meat preparation\\\\\n\t6 & 6 & Dry Nose Oil                                                      & 11 &  11 & personal care & cold flu allergy          \\\\\n\\end{tabular}\n",
            "text/plain": [
              "  product_id product_name                                                     \n",
              "1 1          Chocolate Sandwich Cookies                                       \n",
              "2 2          All-Seasons Salt                                                 \n",
              "3 3          Robust Golden Unsweetened Oolong Tea                             \n",
              "4 4          Smart Ones Classic Favorites Mini Rigatoni With Vodka Cream Sauce\n",
              "5 5          Green Chile Anytime Sauce                                        \n",
              "6 6          Dry Nose Oil                                                     \n",
              "  department_id aisle_id department    aisle                     \n",
              "1 19             61      snacks        cookies cakes             \n",
              "2 13            104      pantry        spices seasonings         \n",
              "3  7             94      beverages     tea                       \n",
              "4  1             38      frozen        frozen meals              \n",
              "5 13              5      pantry        marinades meat preparation\n",
              "6 11             11      personal care cold flu allergy          "
            ]
          },
          "metadata": {}
        }
      ],
      "source": [
        "df.ais <- inner_join(df.dep,aisles.df, by=\"aisle_id\")\n",
        "head(df.ais)"
      ]
    },
    {
      "cell_type": "code",
      "execution_count": null,
      "metadata": {
        "colab": {
          "base_uri": "https://localhost:8080/",
          "height": 286
        },
        "id": "QF0adHmL2c-6",
        "outputId": "76059f98-c84d-428b-fb2b-b430f8c7b731"
      },
      "outputs": [
        {
          "output_type": "display_data",
          "data": {
            "text/html": [
              "<table class=\"dataframe\">\n",
              "<caption>A data.frame: 6 × 6</caption>\n",
              "<thead>\n",
              "\t<tr><th></th><th scope=col>order_id</th><th scope=col>product_id</th><th scope=col>product_name</th><th scope=col>department</th><th scope=col>aisle_id</th><th scope=col>aisle</th></tr>\n",
              "\t<tr><th></th><th scope=col>&lt;int&gt;</th><th scope=col>&lt;int&gt;</th><th scope=col>&lt;chr&gt;</th><th scope=col>&lt;chr&gt;</th><th scope=col>&lt;int&gt;</th><th scope=col>&lt;chr&gt;</th></tr>\n",
              "</thead>\n",
              "<tbody>\n",
              "\t<tr><th scope=row>1</th><td>2</td><td>33120</td><td>Organic Egg Whites   </td><td>dairy eggs</td><td> 86</td><td>eggs              </td></tr>\n",
              "\t<tr><th scope=row>2</th><td>2</td><td>28985</td><td>Michigan Organic Kale</td><td>produce   </td><td> 83</td><td>fresh vegetables  </td></tr>\n",
              "\t<tr><th scope=row>3</th><td>2</td><td> 9327</td><td>Garlic Powder        </td><td>pantry    </td><td>104</td><td>spices seasonings </td></tr>\n",
              "\t<tr><th scope=row>4</th><td>2</td><td>45918</td><td>Coconut Butter       </td><td>pantry    </td><td> 19</td><td>oils vinegars     </td></tr>\n",
              "\t<tr><th scope=row>5</th><td>2</td><td>30035</td><td>Natural Sweetener    </td><td>pantry    </td><td> 17</td><td>baking ingredients</td></tr>\n",
              "\t<tr><th scope=row>6</th><td>2</td><td>17794</td><td>Carrots              </td><td>produce   </td><td> 83</td><td>fresh vegetables  </td></tr>\n",
              "</tbody>\n",
              "</table>\n"
            ],
            "text/markdown": "\nA data.frame: 6 × 6\n\n| <!--/--> | order_id &lt;int&gt; | product_id &lt;int&gt; | product_name &lt;chr&gt; | department &lt;chr&gt; | aisle_id &lt;int&gt; | aisle &lt;chr&gt; |\n|---|---|---|---|---|---|---|\n| 1 | 2 | 33120 | Organic Egg Whites    | dairy eggs |  86 | eggs               |\n| 2 | 2 | 28985 | Michigan Organic Kale | produce    |  83 | fresh vegetables   |\n| 3 | 2 |  9327 | Garlic Powder         | pantry     | 104 | spices seasonings  |\n| 4 | 2 | 45918 | Coconut Butter        | pantry     |  19 | oils vinegars      |\n| 5 | 2 | 30035 | Natural Sweetener     | pantry     |  17 | baking ingredients |\n| 6 | 2 | 17794 | Carrots               | produce    |  83 | fresh vegetables   |\n\n",
            "text/latex": "A data.frame: 6 × 6\n\\begin{tabular}{r|llllll}\n  & order\\_id & product\\_id & product\\_name & department & aisle\\_id & aisle\\\\\n  & <int> & <int> & <chr> & <chr> & <int> & <chr>\\\\\n\\hline\n\t1 & 2 & 33120 & Organic Egg Whites    & dairy eggs &  86 & eggs              \\\\\n\t2 & 2 & 28985 & Michigan Organic Kale & produce    &  83 & fresh vegetables  \\\\\n\t3 & 2 &  9327 & Garlic Powder         & pantry     & 104 & spices seasonings \\\\\n\t4 & 2 & 45918 & Coconut Butter        & pantry     &  19 & oils vinegars     \\\\\n\t5 & 2 & 30035 & Natural Sweetener     & pantry     &  17 & baking ingredients\\\\\n\t6 & 2 & 17794 & Carrots               & produce    &  83 & fresh vegetables  \\\\\n\\end{tabular}\n",
            "text/plain": [
              "  order_id product_id product_name          department aisle_id\n",
              "1 2        33120      Organic Egg Whites    dairy eggs  86     \n",
              "2 2        28985      Michigan Organic Kale produce     83     \n",
              "3 2         9327      Garlic Powder         pantry     104     \n",
              "4 2        45918      Coconut Butter        pantry      19     \n",
              "5 2        30035      Natural Sweetener     pantry      17     \n",
              "6 2        17794      Carrots               produce     83     \n",
              "  aisle             \n",
              "1 eggs              \n",
              "2 fresh vegetables  \n",
              "3 spices seasonings \n",
              "4 oils vinegars     \n",
              "5 baking ingredients\n",
              "6 fresh vegetables  "
            ]
          },
          "metadata": {}
        }
      ],
      "source": [
        "df.join <- op_prior.df %>% inner_join(df.ais, by = \"product_id\") %>%\n",
        "  select(order_id, product_id, product_name, department,aisle_id, aisle)\n",
        "  head(df.join)"
      ]
    },
    {
      "cell_type": "markdown",
      "metadata": {
        "id": "BFs6l_HPtLVv"
      },
      "source": [
        "#SOME VISUALIZATIONS FOR EXPLORATION"
      ]
    },
    {
      "cell_type": "code",
      "execution_count": null,
      "metadata": {
        "colab": {
          "background_save": true
        },
        "id": "JoPbxXsvUJlS",
        "outputId": "05c97bb2-44d3-4346-df6e-3a71108f5c36"
      },
      "outputs": [
        {
          "name": "stderr",
          "output_type": "stream",
          "text": [
            "\u001b[1m\u001b[22m`summarise()` has grouped output by 'aisle_id', 'department'. You can override\n",
            "using the `.groups` argument.\n"
          ]
        },
        {
          "data": {
            "text/html": [
              "<table class=\"dataframe\">\n",
              "<caption>A grouped_df: 6 × 3</caption>\n",
              "<thead>\n",
              "\t<tr><th scope=col>aisle_id</th><th scope=col>department</th><th scope=col>frec</th></tr>\n",
              "\t<tr><th scope=col>&lt;int&gt;</th><th scope=col>&lt;chr&gt;</th><th scope=col>&lt;dbl&gt;</th></tr>\n",
              "</thead>\n",
              "<tbody>\n",
              "\t<tr><td> 24</td><td>produce   </td><td>3642188</td></tr>\n",
              "\t<tr><td> 83</td><td>produce   </td><td>3418021</td></tr>\n",
              "\t<tr><td>123</td><td>produce   </td><td>1765313</td></tr>\n",
              "\t<tr><td>120</td><td>dairy eggs</td><td>1452343</td></tr>\n",
              "\t<tr><td> 21</td><td>dairy eggs</td><td> 979763</td></tr>\n",
              "\t<tr><td> 84</td><td>dairy eggs</td><td> 891015</td></tr>\n",
              "</tbody>\n",
              "</table>\n"
            ],
            "text/latex": "A grouped\\_df: 6 × 3\n\\begin{tabular}{lll}\n aisle\\_id & department & frec\\\\\n <int> & <chr> & <dbl>\\\\\n\\hline\n\t  24 & produce    & 3642188\\\\\n\t  83 & produce    & 3418021\\\\\n\t 123 & produce    & 1765313\\\\\n\t 120 & dairy eggs & 1452343\\\\\n\t  21 & dairy eggs &  979763\\\\\n\t  84 & dairy eggs &  891015\\\\\n\\end{tabular}\n",
            "text/markdown": "\nA grouped_df: 6 × 3\n\n| aisle_id &lt;int&gt; | department &lt;chr&gt; | frec &lt;dbl&gt; |\n|---|---|---|\n|  24 | produce    | 3642188 |\n|  83 | produce    | 3418021 |\n| 123 | produce    | 1765313 |\n| 120 | dairy eggs | 1452343 |\n|  21 | dairy eggs |  979763 |\n|  84 | dairy eggs |  891015 |\n\n",
            "text/plain": [
              "  aisle_id department frec   \n",
              "1  24      produce    3642188\n",
              "2  83      produce    3418021\n",
              "3 123      produce    1765313\n",
              "4 120      dairy eggs 1452343\n",
              "5  21      dairy eggs  979763\n",
              "6  84      dairy eggs  891015"
            ]
          },
          "metadata": {},
          "output_type": "display_data"
        }
      ],
      "source": [
        "x <- df.join%>%\n",
        "mutate(n=1)%>%\n",
        "select(aisle_id, department,n)\n",
        "\n",
        "x <- x%>%\n",
        "group_by(aisle_id,department)%>%\n",
        "transmute(nt = sum(n))%>%\n",
        "mutate(frec=nt)%>%\n",
        "summarise(frec)%>%\n",
        "distinct()%>%\n",
        "arrange(desc(frec))\n",
        "head(x)"
      ]
    },
    {
      "cell_type": "code",
      "execution_count": null,
      "metadata": {
        "colab": {
          "background_save": true
        },
        "id": "LA8e7k6GYcM6",
        "outputId": "f0d67a00-333c-4b27-f2fd-646dfb8cc361"
      },
      "outputs": [
        {
          "ename": "ERROR",
          "evalue": "ignored",
          "output_type": "error",
          "traceback": [
            "Error in treemap(x, index = c(\"department\", \"aisle_id\"), vSize = \"frec\", : could not find function \"treemap\"\nTraceback:\n"
          ]
        }
      ],
      "source": [
        "treemap(x,\n",
        "index = c(\"department\", \"aisle_id\"),\n",
        "vSize = \"frec\",\n",
        "type = \"index\",\n",
        "frontsize.label = c(14, 18),\n",
        "frontface.labels =c(3, 1),\n",
        "bg.labels=c(\"transparent\"),\n",
        "align.labels = list(c(\"center\", \"top\"),c(\"center\",\"center\")),\n",
        "border.col=c(\"black\",\"white\"),\n",
        "border.lwds=c(3,1),\n",
        "title= \"Ventas por pasillos y por Departamento\",\n",
        "frontsize.title=14,\n",
        "palette=\"Set3\")"
      ]
    },
    {
      "cell_type": "code",
      "execution_count": null,
      "metadata": {
        "id": "msmbGY85xlFZ"
      },
      "outputs": [],
      "source": [
        "ggplot(x, aes(area=frec, fill= department, subgroup=department, subgroup2 = aisle_id))+\n",
        "  geom_treemap()+\n",
        "  geom_treemap_subgroup2_border(colour= \"white\", size= 2)+\n",
        "  #geom_treemap_subgroup_text(place= \"center\", frontface= \"italic\", colour=\"gray27\")+\n",
        "  geom_treemap_subgroup2_text(colour =\"white\", grow = TRUE)+\n",
        "  theme_minimal()\n",
        "  #scale_fill_manual(value=c(\"steelbue4\"))\n"
      ]
    },
    {
      "cell_type": "code",
      "execution_count": null,
      "metadata": {
        "id": "2m7RrBBOULWi"
      },
      "outputs": [],
      "source": [
        "x1 <- inner_join(aisles.df, products.df, by =\"aisle_id\") %>%\n",
        "select(\"aisle_id\", \"department_id\")%>%\n",
        "distinct()\n",
        "x1 <-x1 %>% inner_join(departments.df, by =\"department_id\") %>%\n",
        "select(\"department\", \"aisle_id\") %>%\n",
        "mutate(n = 1)\n",
        "\n",
        "ggplot(x1, aes(area=n, fill= department, subgroup=department, subgroup2 = aisle_id))+\n",
        "  geom_treemap()+\n",
        "  geom_treemap_subgroup2_border(colour= \"white\", size= 2)+\n",
        "  #geom_treemap_subgroup_text(place= \"center\", frontface= \"italic\", colour=\"gray27\")+\n",
        "  geom_treemap_subgroup2_text(colour =\"white\", grow = TRUE)+\n",
        "  theme_minimal()\n",
        "  #scale_fill_manual(value=c(\"steelbue4\"))"
      ]
    },
    {
      "cell_type": "markdown",
      "metadata": {
        "id": "xyV8GRPJL25T"
      },
      "source": [
        "#STRATEGY 1: LEVERAGE THE DEPARTMENTS WITH THE LOWEST SALES THROUGH RECOMENDATIONS"
      ]
    },
    {
      "cell_type": "markdown",
      "metadata": {
        "id": "KxE_vpf8Y4fO"
      },
      "source": [
        "##1 TRASNFORM TO TRANSACTIONS AND RUN APRIORI BY DEPARMENT"
      ]
    },
    {
      "cell_type": "code",
      "execution_count": null,
      "metadata": {
        "id": "wxV_vc9ctKfQ"
      },
      "outputs": [],
      "source": [
        "df.join$order_id =\n",
        "  factor(df.join$order_id)"
      ]
    },
    {
      "cell_type": "code",
      "execution_count": null,
      "metadata": {
        "id": "ki2352n22hgR"
      },
      "outputs": [],
      "source": [
        "df.list <- split(df.join$product_name,\n",
        "                  df.join$order_id)"
      ]
    },
    {
      "cell_type": "code",
      "execution_count": null,
      "metadata": {
        "id": "3nCVLV2F2kUh",
        "colab": {
          "base_uri": "https://localhost:8080/",
          "height": 323
        },
        "outputId": "651b4fe6-3453-43ee-daa6-d8b7f252eb54"
      },
      "outputs": [
        {
          "output_type": "display_data",
          "data": {
            "text/html": [
              "<dl>\n",
              "\t<dt>$`2`</dt>\n",
              "\t\t<dd><style>\n",
              ".list-inline {list-style: none; margin:0; padding: 0}\n",
              ".list-inline>li {display: inline-block}\n",
              ".list-inline>li:not(:last-child)::after {content: \"\\00b7\"; padding: 0 .5ex}\n",
              "</style>\n",
              "<ol class=list-inline><li>'Organic Egg Whites'</li><li>'Michigan Organic Kale'</li><li>'Garlic Powder'</li><li>'Coconut Butter'</li><li>'Natural Sweetener'</li><li>'Carrots'</li><li>'Original Unflavored Gelatine Mix'</li><li>'All Natural No Stir Creamy Almond Butter'</li><li>'Classic Blend Cole Slaw'</li></ol>\n",
              "</dd>\n",
              "\t<dt>$`3`</dt>\n",
              "\t\t<dd><style>\n",
              ".list-inline {list-style: none; margin:0; padding: 0}\n",
              ".list-inline>li {display: inline-block}\n",
              ".list-inline>li:not(:last-child)::after {content: \"\\00b7\"; padding: 0 .5ex}\n",
              "</style>\n",
              "<ol class=list-inline><li>'Total 2% with Strawberry Lowfat Greek Strained Yogurt'</li><li>'Unsweetened Almondmilk'</li><li>'Lemons'</li><li>'Organic Baby Spinach'</li><li>'Unsweetened Chocolate Almond Breeze Almond Milk'</li><li>'Organic Ginger Root'</li><li>'Air Chilled Organic Boneless Skinless Chicken Breasts'</li><li>'Organic Ezekiel 49 Bread Cinnamon Raisin'</li></ol>\n",
              "</dd>\n",
              "\t<dt>$`4`</dt>\n",
              "\t\t<dd><style>\n",
              ".list-inline {list-style: none; margin:0; padding: 0}\n",
              ".list-inline>li {display: inline-block}\n",
              ".list-inline>li:not(:last-child)::after {content: \"\\00b7\"; padding: 0 .5ex}\n",
              "</style>\n",
              "<ol class=list-inline><li>'Plain Pre-Sliced Bagels'</li><li>'Honey/Lemon Cough Drops'</li><li>'Chewy 25% Low Sugar Chocolate Chip Granola'</li><li>'Oats &amp; Chocolate Chewy Bars'</li><li>'Kellogg\\'s Nutri-Grain Apple Cinnamon Cereal'</li><li>'Nutri-Grain Soft Baked Strawberry Cereal Breakfast Bars'</li><li>'Kellogg\\'s Nutri-Grain Blueberry Cereal'</li><li>'Tiny Twists Pretzels'</li><li>'Traditional Snack Mix'</li><li>'Goldfish Cheddar Baked Snack Crackers'</li><li>'Original Orange Juice'</li><li>'Sugarfree Energy Drink'</li><li>'Energy Drink'</li></ol>\n",
              "</dd>\n",
              "\t<dt>$`5`</dt>\n",
              "\t\t<dd><style>\n",
              ".list-inline {list-style: none; margin:0; padding: 0}\n",
              ".list-inline>li {display: inline-block}\n",
              ".list-inline>li:not(:last-child)::after {content: \"\\00b7\"; padding: 0 .5ex}\n",
              "</style>\n",
              "<ol class=list-inline><li>'Bag of Organic Bananas'</li><li>'Just Crisp, Parmesan'</li><li>'Fresh Fruit Salad'</li><li>'Organic Raspberries'</li><li>'2% Reduced Fat Milk'</li><li>'Sensitive Toilet Paper'</li><li>'Natural Artesian Water, Mini &amp; Mobile'</li><li>'Matzos, Thin, Tea'</li><li>'Boneless Skinless Chicken Breast Fillets'</li><li>'Mini Original Babybel Cheese'</li><li>'Macaroni And Cheese'</li><li>'Clementines'</li><li>'Biscuits Orange Pim\\'s'</li><li>'Dairy Milk Fruit &amp; Nut Chocolate Bar'</li><li>'Artichokes'</li><li>'Apricot Preserves'</li><li>'One Ply Choose A Size Big Roll Paper Towel Rolls'</li><li>'Wafer, Chocolate'</li><li>'French Lavender Hand Wash'</li><li>'American Slices Cheese'</li><li><span style=white-space:pre-wrap>'Everyday  Facial Tissues'</span></li><li>'Organic Hass Avocado'</li><li>'Spaghetti Pasta'</li><li>'Meyer Lemon'</li><li>'Bag of Organic Lemons'</li><li>'Original Black Box Tablewater Cracker'</li></ol>\n",
              "</dd>\n",
              "\t<dt>$`6`</dt>\n",
              "\t\t<dd><style>\n",
              ".list-inline {list-style: none; margin:0; padding: 0}\n",
              ".list-inline>li {display: inline-block}\n",
              ".list-inline>li:not(:last-child)::after {content: \"\\00b7\"; padding: 0 .5ex}\n",
              "</style>\n",
              "<ol class=list-inline><li>'Cleanse'</li><li>'Dryer Sheets Geranium Scent'</li><li>'Clean Day Lavender Scent Room Freshener Spray'</li></ol>\n",
              "</dd>\n",
              "</dl>\n"
            ],
            "text/markdown": "$`2`\n:   1. 'Organic Egg Whites'\n2. 'Michigan Organic Kale'\n3. 'Garlic Powder'\n4. 'Coconut Butter'\n5. 'Natural Sweetener'\n6. 'Carrots'\n7. 'Original Unflavored Gelatine Mix'\n8. 'All Natural No Stir Creamy Almond Butter'\n9. 'Classic Blend Cole Slaw'\n\n\n\n$`3`\n:   1. 'Total 2% with Strawberry Lowfat Greek Strained Yogurt'\n2. 'Unsweetened Almondmilk'\n3. 'Lemons'\n4. 'Organic Baby Spinach'\n5. 'Unsweetened Chocolate Almond Breeze Almond Milk'\n6. 'Organic Ginger Root'\n7. 'Air Chilled Organic Boneless Skinless Chicken Breasts'\n8. 'Organic Ezekiel 49 Bread Cinnamon Raisin'\n\n\n\n$`4`\n:   1. 'Plain Pre-Sliced Bagels'\n2. 'Honey/Lemon Cough Drops'\n3. 'Chewy 25% Low Sugar Chocolate Chip Granola'\n4. 'Oats &amp; Chocolate Chewy Bars'\n5. 'Kellogg\\'s Nutri-Grain Apple Cinnamon Cereal'\n6. 'Nutri-Grain Soft Baked Strawberry Cereal Breakfast Bars'\n7. 'Kellogg\\'s Nutri-Grain Blueberry Cereal'\n8. 'Tiny Twists Pretzels'\n9. 'Traditional Snack Mix'\n10. 'Goldfish Cheddar Baked Snack Crackers'\n11. 'Original Orange Juice'\n12. 'Sugarfree Energy Drink'\n13. 'Energy Drink'\n\n\n\n$`5`\n:   1. 'Bag of Organic Bananas'\n2. 'Just Crisp, Parmesan'\n3. 'Fresh Fruit Salad'\n4. 'Organic Raspberries'\n5. '2% Reduced Fat Milk'\n6. 'Sensitive Toilet Paper'\n7. 'Natural Artesian Water, Mini &amp; Mobile'\n8. 'Matzos, Thin, Tea'\n9. 'Boneless Skinless Chicken Breast Fillets'\n10. 'Mini Original Babybel Cheese'\n11. 'Macaroni And Cheese'\n12. 'Clementines'\n13. 'Biscuits Orange Pim\\'s'\n14. 'Dairy Milk Fruit &amp; Nut Chocolate Bar'\n15. 'Artichokes'\n16. 'Apricot Preserves'\n17. 'One Ply Choose A Size Big Roll Paper Towel Rolls'\n18. 'Wafer, Chocolate'\n19. 'French Lavender Hand Wash'\n20. 'American Slices Cheese'\n21. <span style=white-space:pre-wrap>'Everyday  Facial Tissues'</span>\n22. 'Organic Hass Avocado'\n23. 'Spaghetti Pasta'\n24. 'Meyer Lemon'\n25. 'Bag of Organic Lemons'\n26. 'Original Black Box Tablewater Cracker'\n\n\n\n$`6`\n:   1. 'Cleanse'\n2. 'Dryer Sheets Geranium Scent'\n3. 'Clean Day Lavender Scent Room Freshener Spray'\n\n\n\n\n\n",
            "text/latex": "\\begin{description}\n\\item[\\$`2`] \\begin{enumerate*}\n\\item 'Organic Egg Whites'\n\\item 'Michigan Organic Kale'\n\\item 'Garlic Powder'\n\\item 'Coconut Butter'\n\\item 'Natural Sweetener'\n\\item 'Carrots'\n\\item 'Original Unflavored Gelatine Mix'\n\\item 'All Natural No Stir Creamy Almond Butter'\n\\item 'Classic Blend Cole Slaw'\n\\end{enumerate*}\n\n\\item[\\$`3`] \\begin{enumerate*}\n\\item 'Total 2\\% with Strawberry Lowfat Greek Strained Yogurt'\n\\item 'Unsweetened Almondmilk'\n\\item 'Lemons'\n\\item 'Organic Baby Spinach'\n\\item 'Unsweetened Chocolate Almond Breeze Almond Milk'\n\\item 'Organic Ginger Root'\n\\item 'Air Chilled Organic Boneless Skinless Chicken Breasts'\n\\item 'Organic Ezekiel 49 Bread Cinnamon Raisin'\n\\end{enumerate*}\n\n\\item[\\$`4`] \\begin{enumerate*}\n\\item 'Plain Pre-Sliced Bagels'\n\\item 'Honey/Lemon Cough Drops'\n\\item 'Chewy 25\\% Low Sugar Chocolate Chip Granola'\n\\item 'Oats \\& Chocolate Chewy Bars'\n\\item 'Kellogg\\textbackslash{}'s Nutri-Grain Apple Cinnamon Cereal'\n\\item 'Nutri-Grain Soft Baked Strawberry Cereal Breakfast Bars'\n\\item 'Kellogg\\textbackslash{}'s Nutri-Grain Blueberry Cereal'\n\\item 'Tiny Twists Pretzels'\n\\item 'Traditional Snack Mix'\n\\item 'Goldfish Cheddar Baked Snack Crackers'\n\\item 'Original Orange Juice'\n\\item 'Sugarfree Energy Drink'\n\\item 'Energy Drink'\n\\end{enumerate*}\n\n\\item[\\$`5`] \\begin{enumerate*}\n\\item 'Bag of Organic Bananas'\n\\item 'Just Crisp, Parmesan'\n\\item 'Fresh Fruit Salad'\n\\item 'Organic Raspberries'\n\\item '2\\% Reduced Fat Milk'\n\\item 'Sensitive Toilet Paper'\n\\item 'Natural Artesian Water, Mini \\& Mobile'\n\\item 'Matzos, Thin, Tea'\n\\item 'Boneless Skinless Chicken Breast Fillets'\n\\item 'Mini Original Babybel Cheese'\n\\item 'Macaroni And Cheese'\n\\item 'Clementines'\n\\item 'Biscuits Orange Pim\\textbackslash{}'s'\n\\item 'Dairy Milk Fruit \\& Nut Chocolate Bar'\n\\item 'Artichokes'\n\\item 'Apricot Preserves'\n\\item 'One Ply Choose A Size Big Roll Paper Towel Rolls'\n\\item 'Wafer, Chocolate'\n\\item 'French Lavender Hand Wash'\n\\item 'American Slices Cheese'\n\\item 'Everyday  Facial Tissues'\n\\item 'Organic Hass Avocado'\n\\item 'Spaghetti Pasta'\n\\item 'Meyer Lemon'\n\\item 'Bag of Organic Lemons'\n\\item 'Original Black Box Tablewater Cracker'\n\\end{enumerate*}\n\n\\item[\\$`6`] \\begin{enumerate*}\n\\item 'Cleanse'\n\\item 'Dryer Sheets Geranium Scent'\n\\item 'Clean Day Lavender Scent Room Freshener Spray'\n\\end{enumerate*}\n\n\\end{description}\n",
            "text/plain": [
              "$`2`\n",
              "[1] \"Organic Egg Whites\"                      \n",
              "[2] \"Michigan Organic Kale\"                   \n",
              "[3] \"Garlic Powder\"                           \n",
              "[4] \"Coconut Butter\"                          \n",
              "[5] \"Natural Sweetener\"                       \n",
              "[6] \"Carrots\"                                 \n",
              "[7] \"Original Unflavored Gelatine Mix\"        \n",
              "[8] \"All Natural No Stir Creamy Almond Butter\"\n",
              "[9] \"Classic Blend Cole Slaw\"                 \n",
              "\n",
              "$`3`\n",
              "[1] \"Total 2% with Strawberry Lowfat Greek Strained Yogurt\"\n",
              "[2] \"Unsweetened Almondmilk\"                               \n",
              "[3] \"Lemons\"                                               \n",
              "[4] \"Organic Baby Spinach\"                                 \n",
              "[5] \"Unsweetened Chocolate Almond Breeze Almond Milk\"      \n",
              "[6] \"Organic Ginger Root\"                                  \n",
              "[7] \"Air Chilled Organic Boneless Skinless Chicken Breasts\"\n",
              "[8] \"Organic Ezekiel 49 Bread Cinnamon Raisin\"             \n",
              "\n",
              "$`4`\n",
              " [1] \"Plain Pre-Sliced Bagels\"                                \n",
              " [2] \"Honey/Lemon Cough Drops\"                                \n",
              " [3] \"Chewy 25% Low Sugar Chocolate Chip Granola\"             \n",
              " [4] \"Oats & Chocolate Chewy Bars\"                            \n",
              " [5] \"Kellogg's Nutri-Grain Apple Cinnamon Cereal\"            \n",
              " [6] \"Nutri-Grain Soft Baked Strawberry Cereal Breakfast Bars\"\n",
              " [7] \"Kellogg's Nutri-Grain Blueberry Cereal\"                 \n",
              " [8] \"Tiny Twists Pretzels\"                                   \n",
              " [9] \"Traditional Snack Mix\"                                  \n",
              "[10] \"Goldfish Cheddar Baked Snack Crackers\"                  \n",
              "[11] \"Original Orange Juice\"                                  \n",
              "[12] \"Sugarfree Energy Drink\"                                 \n",
              "[13] \"Energy Drink\"                                           \n",
              "\n",
              "$`5`\n",
              " [1] \"Bag of Organic Bananas\"                          \n",
              " [2] \"Just Crisp, Parmesan\"                            \n",
              " [3] \"Fresh Fruit Salad\"                               \n",
              " [4] \"Organic Raspberries\"                             \n",
              " [5] \"2% Reduced Fat Milk\"                             \n",
              " [6] \"Sensitive Toilet Paper\"                          \n",
              " [7] \"Natural Artesian Water, Mini & Mobile\"           \n",
              " [8] \"Matzos, Thin, Tea\"                               \n",
              " [9] \"Boneless Skinless Chicken Breast Fillets\"        \n",
              "[10] \"Mini Original Babybel Cheese\"                    \n",
              "[11] \"Macaroni And Cheese\"                             \n",
              "[12] \"Clementines\"                                     \n",
              "[13] \"Biscuits Orange Pim's\"                           \n",
              "[14] \"Dairy Milk Fruit & Nut Chocolate Bar\"            \n",
              "[15] \"Artichokes\"                                      \n",
              "[16] \"Apricot Preserves\"                               \n",
              "[17] \"One Ply Choose A Size Big Roll Paper Towel Rolls\"\n",
              "[18] \"Wafer, Chocolate\"                                \n",
              "[19] \"French Lavender Hand Wash\"                       \n",
              "[20] \"American Slices Cheese\"                          \n",
              "[21] \"Everyday  Facial Tissues\"                        \n",
              "[22] \"Organic Hass Avocado\"                            \n",
              "[23] \"Spaghetti Pasta\"                                 \n",
              "[24] \"Meyer Lemon\"                                     \n",
              "[25] \"Bag of Organic Lemons\"                           \n",
              "[26] \"Original Black Box Tablewater Cracker\"           \n",
              "\n",
              "$`6`\n",
              "[1] \"Cleanse\"                                      \n",
              "[2] \"Dryer Sheets Geranium Scent\"                  \n",
              "[3] \"Clean Day Lavender Scent Room Freshener Spray\"\n"
            ]
          },
          "metadata": {}
        }
      ],
      "source": [
        "head(df.list, 5)"
      ]
    },
    {
      "cell_type": "code",
      "execution_count": null,
      "metadata": {
        "id": "BfX7AULaQfMn"
      },
      "outputs": [],
      "source": [
        "library(arules)"
      ]
    },
    {
      "cell_type": "code",
      "execution_count": null,
      "metadata": {
        "id": "eO87B_922ouo"
      },
      "outputs": [],
      "source": [
        "df.trans <- as(df.list, \"transactions\")"
      ]
    },
    {
      "cell_type": "code",
      "execution_count": null,
      "metadata": {
        "id": "qQzJqMR3b4rK"
      },
      "outputs": [],
      "source": [
        "inspect(head(df.trans))"
      ]
    },
    {
      "cell_type": "code",
      "execution_count": null,
      "metadata": {
        "id": "53V2xEj2GMgk"
      },
      "outputs": [],
      "source": [
        "itemFrequencyGGPlot <- function(x, topN) {\n",
        "  library(tidyverse)\n",
        "  x %>%\n",
        "    itemFrequency %>%\n",
        "    sort() %>%\n",
        "    tail(topN) %>%\n",
        "    as.data.frame %>%\n",
        "    tibble::rownames_to_column() %>%\n",
        "    ggplot(aes(reorder(rowname, `.`),`.`)) + \n",
        "    labs(x = '', y = '') +\n",
        "    ggtitle('Frecuencia canastas por departamentos') +\n",
        "    geom_col(fill=\"blueviolet\") + \n",
        "    coord_flip()+\n",
        "    theme_minimal()+\n",
        "    theme(plot.title = element_text(hjust = 0.5)) \n",
        "    #theme(axis.text.x = element_text(angle = 45, vjust=1.5, hjust=1))\n",
        "    #theme(axis.text.x = element_text(angle = 45, hjust=0))\n",
        "}  \n",
        "itemFrequencyGGPlot(df.trans, 21)"
      ]
    },
    {
      "cell_type": "code",
      "execution_count": null,
      "metadata": {
        "id": "YDjRvnnJjoVW"
      },
      "outputs": [],
      "source": [
        "itemFrequencyPlot(df.trans, topN= 21, type = \"absolute\")"
      ]
    },
    {
      "cell_type": "code",
      "execution_count": null,
      "metadata": {
        "id": "6t1mhLDl292l"
      },
      "outputs": [],
      "source": [
        "summary(df.trans)"
      ]
    },
    {
      "cell_type": "code",
      "execution_count": null,
      "metadata": {
        "colab": {
          "base_uri": "https://localhost:8080/"
        },
        "id": "o9JmPeFZg5mo",
        "outputId": "61f5b7db-47b6-4237-b484-35d79875e13c"
      },
      "outputs": [
        {
          "name": "stdout",
          "output_type": "stream",
          "text": [
            "Apriori\n",
            "\n",
            "Parameter specification:\n",
            " confidence minval smax arem  aval originalSupport maxtime support minlen\n",
            "        0.3    0.1    1 none FALSE            TRUE       5   1e-04      1\n",
            " maxlen target  ext\n",
            "     10  rules TRUE\n",
            "\n",
            "Algorithmic control:\n",
            " filter tree heap memopt load sort verbose\n",
            "    0.1 TRUE TRUE  FALSE TRUE    2    TRUE\n",
            "\n",
            "Absolute minimum support count: 321 \n",
            "\n",
            "set item appearances ...[6 item(s)] done [0.00s].\n",
            "set transactions ...[21 item(s), 3214874 transaction(s)] done [1.23s].\n",
            "sorting and recoding items ... [21 item(s)] done [0.22s].\n",
            "creating transaction tree ... done [4.57s].\n",
            "checking subsets of size 1 2 3 4 5 6 7 8 9 10"
          ]
        },
        {
          "name": "stderr",
          "output_type": "stream",
          "text": [
            "Warning message in apriori(df.trans, parameter = list(support = 1e-04, confidence = 0.3), :\n",
            "“Mining stopped (maxlen reached). Only patterns up to a length of 10 returned!”\n"
          ]
        },
        {
          "name": "stdout",
          "output_type": "stream",
          "text": [
            " done [1.47s].\n",
            "writing ... [0 rule(s)] done [0.01s].\n",
            "creating S4 object  ... done [0.26s].\n"
          ]
        }
      ],
      "source": [
        "rules1.c <- apriori(df.trans, parameter = list(support = 0.0001, confidence = 0.3), appearance=list(rhs=c(\"bulk\", \"other\", \"missing\", \"alcohol\", \"babies\", \"international\"), default =\"lhs\"),target = \"rules\", minlen=1)\n"
      ]
    },
    {
      "cell_type": "code",
      "execution_count": null,
      "metadata": {
        "id": "VBCoDTE9iaRA"
      },
      "outputs": [],
      "source": [
        "rules1.a <- apriori(df.trans, parameter = list(support = 0.0001, confidence = 0.3), appearance=list(lhs=c(\"bulk\", \"other\", \"missing\", \"alcohol\", \"babies\", \"international\"), default =\"rhs\"),target = \"rules\", minlen=1)\n"
      ]
    },
    {
      "cell_type": "code",
      "execution_count": null,
      "metadata": {
        "id": "oOn4R-5lg596"
      },
      "outputs": [],
      "source": [
        "inspect(head(sort(rules1.a, by=\"lift\"), n = 15)) "
      ]
    },
    {
      "cell_type": "code",
      "execution_count": null,
      "metadata": {
        "id": "vVpxsKGUg6vv"
      },
      "outputs": [],
      "source": [
        "plot(rules1.a[1:14],\n",
        "method = \"graph\",\n",
        "control = list(type = \"items\"))"
      ]
    },
    {
      "cell_type": "code",
      "execution_count": null,
      "metadata": {
        "id": "rzGLZ9qK3Bev"
      },
      "outputs": [],
      "source": [
        "rules <- apriori(df.trans, parameter = list(supp = 0.0005, conf = 0.3, target = \"rules\", minlen=1))"
      ]
    },
    {
      "cell_type": "code",
      "execution_count": null,
      "metadata": {
        "id": "lpUoRh703qhU"
      },
      "outputs": [],
      "source": [
        "inspect(head(sort(rules, by=\"lift\"), n = 6))"
      ]
    },
    {
      "cell_type": "code",
      "execution_count": null,
      "metadata": {
        "id": "eNf2pGWaRkp0"
      },
      "outputs": [],
      "source": [
        "redundant_rules = is.redundant(rules)\n",
        "non_redundant_rules = rules[!redundant_rules]"
      ]
    },
    {
      "cell_type": "code",
      "execution_count": null,
      "metadata": {
        "id": "1pjVftfcR2AE"
      },
      "outputs": [],
      "source": [
        "df.quite <- as(non_redundant_rules, \"data.frame\")\n",
        "df.quite %>%\n",
        "arrange(desc(lift))\n",
        "head(df.quite)"
      ]
    },
    {
      "cell_type": "code",
      "execution_count": null,
      "metadata": {
        "id": "0lsTkylClar6"
      },
      "outputs": [],
      "source": [
        "df.limpio <- (separate(df.quite, col=rules, into=c(\"antecedente\", \"consecuente\"), sep = ' => '))\n",
        "\n",
        "df.limpio$antecedente <- str_replace_all(df.limpio$antecedente, \"[^[:alnum:]]\", \" \")\n",
        "df.limpio$consecuente <- str_replace_all(df.limpio$consecuente, \"[^[:alnum:]]\", \" \")\n",
        "\n",
        "head(df.limpio)\n"
      ]
    },
    {
      "cell_type": "code",
      "execution_count": null,
      "metadata": {
        "id": "mqPPfvn1k-7z"
      },
      "outputs": [],
      "source": [
        "df.limpio %>%\n",
        "filter(grepl('bulk|other|pets|missing|alcohol|babies|international', consecuente))"
      ]
    },
    {
      "cell_type": "code",
      "execution_count": null,
      "metadata": {
        "id": "nAm5mqcJoaRr"
      },
      "outputs": [],
      "source": [
        "df.limpio %>%\n",
        "filter(grepl('bulk|other|pets|missing|alcohol|babies|international', antecedente))%>%\n",
        "arrange(desc(lift))"
      ]
    },
    {
      "cell_type": "code",
      "execution_count": null,
      "metadata": {
        "id": "rTkZIMkQtJCK"
      },
      "outputs": [],
      "source": [
        "df.quite$count <- NULL\n",
        "inspectDT(df.quite)"
      ]
    },
    {
      "cell_type": "markdown",
      "metadata": {
        "id": "BghrqklBotwJ"
      },
      "source": [
        "##2 TRANSFORM TO TRANSACTIONS AND RUN THE APRIORI BY AISLES"
      ]
    },
    {
      "cell_type": "code",
      "execution_count": null,
      "metadata": {
        "id": "Tmphf0D4o5Dx"
      },
      "outputs": [],
      "source": [
        "df.alies <- split(df.join$aisle,\n",
        "                  df.join$order_id)\n",
        "\n",
        "df.trans2 <- as(df.alies, \"transactions\")\n",
        "rules2 <- apriori(df.trans2, parameter = list(supp = 0.001, conf = 0.3, target = \"rules\", minlen=1))"
      ]
    },
    {
      "cell_type": "code",
      "execution_count": null,
      "metadata": {
        "id": "UJYsIO1aXOFG"
      },
      "outputs": [],
      "source": [
        "rules2.c <- apriori(df.trans2, parameter = list(support = 0.0001, confidence = 0.3), appearance=list(rhs=c(\"other\", \"red wines\", \"bulk dried fruits vegetables\", \"beers coolers\", \"latino foods\", \"kosher foods\", \"dog food care\", \"cat food care\", \"diapers wipes\", \"white wines\", \"asian foods\", \"bulk grains rice dried goods\", \"indian foods\", \"baby accessories\", \"baby food formula\", \"missing\", \"baby bath body care\", \"spirits\", \"specialty wines champagnes\"), default =\"lhs\"),target = \"rules\", minlen=1)\n",
        "\n"
      ]
    },
    {
      "cell_type": "code",
      "execution_count": null,
      "metadata": {
        "id": "_GilgLFMfHm1"
      },
      "outputs": [],
      "source": [
        "inspect(head(sort(rules2.c, by=\"lift\"), n = 3))"
      ]
    },
    {
      "cell_type": "code",
      "execution_count": null,
      "metadata": {
        "id": "HDzR3b1IevCh"
      },
      "outputs": [],
      "source": [
        "plot(rules2.c[1:3],\n",
        "method = \"graph\",\n",
        "control = list(type = \"items\"))"
      ]
    },
    {
      "cell_type": "code",
      "execution_count": null,
      "metadata": {
        "id": "FGgMLaGeZW_F"
      },
      "outputs": [],
      "source": [
        "rules2.a <- apriori(df.trans2, parameter = list(support = 0.0001, confidence = 0.3), appearance=list(lhs=c(\"other\", \"red wines\", \"bulk dried fruits vegetables\", \"beers coolers\", \"latino foods\", \"kosher foods\", \"dog food care\", \"cat food care\", \"diapers wipes\", \"white wines\", \"asian foods\", \"bulk grains rice dried goods\", \"indian foods\", \"baby accessories\", \"baby food formula\", \"missing\", \"baby bath body care\", \"spirits\", \"specialty wines champagnes\"), default =\"rhs\"),target = \"rules\", minlen=1)\n"
      ]
    },
    {
      "cell_type": "code",
      "execution_count": null,
      "metadata": {
        "id": "8JPAsmVIfPVf"
      },
      "outputs": [],
      "source": [
        "inspect(head(sort(rules2.a, by=\"lift\"), n = 23))"
      ]
    },
    {
      "cell_type": "code",
      "execution_count": null,
      "metadata": {
        "id": "X1it25Nce9Z3"
      },
      "outputs": [],
      "source": [
        "plot(rules2.a[1:21],\n",
        "method = \"graph\",\n",
        "control = list(type = \"items\"))"
      ]
    },
    {
      "cell_type": "markdown",
      "metadata": {
        "id": "HtxiKXi9Lipt"
      },
      "source": [
        "# STRATEGY 2: CREATE SUBSET WITHOUT THE TWO MOST SOLD DEPARTMENTS"
      ]
    },
    {
      "cell_type": "code",
      "execution_count": null,
      "metadata": {
        "id": "RfXInVsPSJAF"
      },
      "outputs": [],
      "source": [
        "head(df.join)"
      ]
    },
    {
      "cell_type": "code",
      "execution_count": null,
      "metadata": {
        "id": "fjSSUYSWq73c"
      },
      "outputs": [],
      "source": [
        "#create a dataset without the two biggest sold departments to explore how to improve the rest of the sales.\n",
        "not_most_sale <- df.join %>%\n",
        "filter(department != \"produce\")\n",
        "not_most_sale <- not_most_sale %>%\n",
        "filter(department != \"dairy eggs\")\n",
        "head(not_most_sale)"
      ]
    },
    {
      "cell_type": "code",
      "execution_count": null,
      "metadata": {
        "id": "yEaz_Dsaruvd"
      },
      "outputs": [],
      "source": [
        "df.trans.ls <- split(not_most_sale$aisle,\n",
        "not_most_sale$order_id)\n",
        "df.trans.ls <- as(df.trans.ls, \"transactions\")\n",
        "head(df.trans.ls, 5)"
      ]
    },
    {
      "cell_type": "code",
      "execution_count": null,
      "metadata": {
        "id": "XA1fWUuJdX_r"
      },
      "outputs": [],
      "source": [
        "rules3 <- apriori(df.trans.ls, parameter = list(supp = 0.001, conf = 0.05, target = \"rules\", minlen=2))"
      ]
    },
    {
      "cell_type": "code",
      "execution_count": null,
      "metadata": {
        "id": "SryXUvq0dlYJ"
      },
      "outputs": [],
      "source": [
        "redundant_rules3 = is.redundant(rules3)\n",
        "non_redundant_rules3 = rules3[!redundant_rules3]"
      ]
    },
    {
      "cell_type": "code",
      "execution_count": null,
      "metadata": {
        "id": "_HpTb_r1dtan"
      },
      "outputs": [],
      "source": [
        "df.quite2 <- as(non_redundant_rules3, \"data.frame\")\n",
        "head(df.quite2)"
      ]
    },
    {
      "cell_type": "code",
      "execution_count": null,
      "metadata": {
        "id": "Vzqkmn-md0yE"
      },
      "outputs": [],
      "source": [
        "df.limpio2 <- (separate(df.quite2, col=rules, into=c(\"antecedente\", \"consecuente\"), sep = ' => '))\n",
        "\n",
        "df.limpio2$antecedente <- str_replace_all(df.limpio2$antecedente, \"[^[:alnum:]]\", \" \")\n",
        "df.limpio2$consecuente <- str_replace_all(df.limpio2$consecuente, \"[^[:alnum:]]\", \" \")\n",
        "\n",
        "head(df.limpio2)"
      ]
    },
    {
      "cell_type": "code",
      "execution_count": null,
      "metadata": {
        "id": "c8JGQ5Uul6VH"
      },
      "outputs": [],
      "source": [
        "plot(rules2[1:20],\n",
        "method = \"graph\",\n",
        "control = list(type = \"items\"))"
      ]
    },
    {
      "cell_type": "code",
      "execution_count": null,
      "metadata": {
        "id": "ZV7__BIsl_dS"
      },
      "outputs": [],
      "source": [
        "plot(rules2[1:20],\n",
        "method = \"paracoord\",\n",
        "control = list(reorder = TRUE))"
      ]
    },
    {
      "cell_type": "markdown",
      "metadata": {
        "id": "n5x31DtseKcV"
      },
      "source": [
        "# STRATEGY 3 & 4"
      ]
    },
    {
      "cell_type": "code",
      "execution_count": null,
      "metadata": {
        "colab": {
          "base_uri": "https://localhost:8080/"
        },
        "id": "Oq8_HO4jPAyK",
        "outputId": "80cec53e-ab7c-4e0f-9d79-cf40274ad3b9"
      },
      "outputs": [
        {
          "name": "stdout",
          "output_type": "stream",
          "text": [
            "Enter top N: 20\n"
          ]
        }
      ],
      "source": [
        "#enter the desire n top products\n",
        "n <- readline(prompt=\"Enter top N: \")\n"
      ]
    },
    {
      "cell_type": "code",
      "execution_count": null,
      "metadata": {
        "colab": {
          "base_uri": "https://localhost:8080/",
          "height": 269
        },
        "id": "7CAAJVb77v7s",
        "outputId": "18bea2c9-dbc9-4370-85f1-6f7c160e4445"
      },
      "outputs": [
        {
          "output_type": "stream",
          "name": "stderr",
          "text": [
            "\u001b[1m\u001b[22m`summarise()` has grouped output by 'department', 'product_name'. You can\n",
            "override using the `.groups` argument.\n",
            "Warning message in is.na(n):\n",
            "“is.na() applied to non-(list or vector) of type 'closure'”\n"
          ]
        },
        {
          "output_type": "error",
          "ename": "ERROR",
          "evalue": "ignored",
          "traceback": [
            "Error in n < 0L: comparison (3) is possible only for atomic and list types\nTraceback:\n",
            "1. xt[, head(.SD, n), by = department]",
            "2. `[.data.table`(xt, , head(.SD, n), by = department)",
            "3. head(product_name, n)",
            "4. head(product_name, n)",
            "5. head.default(product_name, n)"
          ]
        }
      ],
      "source": [
        "#creating frecuency vector to select our top and bottom 10 products per department\n",
        "\n",
        "x3 <- df.join%>%\n",
        "mutate(n=1)%>%\n",
        "select(department, product_name, n)\n",
        "\n",
        "\n",
        "x3 <- x3%>%\n",
        "group_by(department, product_name)%>%\n",
        "transmute(nt = sum(n))%>%\n",
        "mutate(frec=nt)%>%\n",
        "summarise(frec)%>%\n",
        "arrange(desc(frec))%>%\n",
        "distinct()\n",
        "\n",
        "#trasnfor via data.table the top 10 and bottom 10 base on our frecuency\n",
        "xt <- x3\n",
        "xt <- xt[order(xt$frec, decreasing = TRUE),]\n",
        "xt <- data.table(xt, key =\"department\")\n",
        "xt <- xt[ , head(.SD, n), by= department]\n",
        "\n",
        "xb <- x3%>%\n",
        "arrange(frec)\n",
        "xb <- xb[order(xb$frec, decreasing = TRUE),]\n",
        "xb <- data.table(xb, key =\"department\")\n",
        "xb <- xb[ , tail(.SD, n), by= department]\n",
        "\n",
        "#assing to  different vectors the list of our top and bottom products\n",
        "\n",
        "topx <- xt$product_name\n",
        "bottomx <-xb$product_name\n",
        "topx = topx[! topx %in% bottomx]\n",
        "bottomx = bottomx[! bottomx %in% topx]\n",
        "\n",
        "#transfom our original DF to factor to find the rules\n",
        "df.join$order_id <- as.factor(df.join$order_id)\n",
        "\n",
        "df.trans.ms <- split(df.join$product_name,\n",
        "df.join$order_id)\n",
        "\n",
        "df.trans.ms <- as(df.trans.ms, \"transactions\")"
      ]
    },
    {
      "cell_type": "code",
      "execution_count": null,
      "metadata": {
        "colab": {
          "base_uri": "https://localhost:8080/"
        },
        "id": "trae9Rzjs1RH",
        "outputId": "1fde2e48-13d3-4715-9253-228501fa5a65"
      },
      "outputs": [
        {
          "output_type": "stream",
          "name": "stdout",
          "text": [
            "Apriori\n",
            "\n",
            "Parameter specification:\n",
            " confidence minval smax arem  aval originalSupport maxtime support minlen\n",
            "      1e-09    0.1    1 none FALSE            TRUE       5   1e-09      2\n",
            " maxlen target  ext\n",
            "     10  rules TRUE\n",
            "\n",
            "Algorithmic control:\n",
            " filter tree heap memopt load sort verbose\n",
            "    0.1 TRUE TRUE  FALSE TRUE    2    TRUE\n",
            "\n",
            "Absolute minimum support count: 0 \n",
            "\n",
            "set item appearances ...[420 item(s)] done [0.00s].\n",
            "set transactions ...[420 item(s), 3214874 transaction(s)] done [11.98s].\n",
            "sorting and recoding items ... [420 item(s)] done [0.09s].\n",
            "creating transaction tree ... done [2.34s].\n",
            "checking subsets of size 1 2 done [0.01s].\n",
            "writing ... [813 rule(s)] done [0.00s].\n",
            "creating S4 object  ... done [0.38s].\n"
          ]
        }
      ],
      "source": [
        "rules3.t <- apriori(df.trans.ms, parameter = list(support = 0.0000003, confidence = 0.0000003), appearance=list(rhs=(bottomx), lhs=c(topx)),target = \"rules\", minlen=2)  #\"rhs\" = c(topx)"
      ]
    },
    {
      "cell_type": "code",
      "source": [
        "rules123 <- apriori(df.trans, parameter = list(support = 0.0000003, confidence = 0.5, target = \"rules\"))"
      ],
      "metadata": {
        "colab": {
          "base_uri": "https://localhost:8080/"
        },
        "id": "mwPim3FUyA0i",
        "outputId": "8f9c2515-212e-44f3-a920-2fbd299dd538"
      },
      "execution_count": null,
      "outputs": [
        {
          "output_type": "stream",
          "name": "stdout",
          "text": [
            "Apriori\n",
            "\n",
            "Parameter specification:\n",
            " confidence minval smax arem  aval originalSupport maxtime support minlen\n",
            "        0.5    0.1    1 none FALSE            TRUE       5   3e-07      1\n",
            " maxlen target  ext\n",
            "     10  rules TRUE\n",
            "\n",
            "Algorithmic control:\n",
            " filter tree heap memopt load sort verbose\n",
            "    0.1 TRUE TRUE  FALSE TRUE    2    TRUE\n",
            "\n",
            "Absolute minimum support count: 0 \n",
            "\n",
            "set item appearances ...[0 item(s)] done [0.00s].\n",
            "set transactions ...[49677 item(s), 3214874 transaction(s)] done [23.64s].\n",
            "sorting and recoding items ... [49677 item(s)] done [0.65s].\n",
            "creating transaction tree ... done [6.12s].\n",
            "checking subsets of size 1 2"
          ]
        },
        {
          "output_type": "stream",
          "name": "stderr",
          "text": [
            "Warning message in apriori(df.trans, parameter = list(support = 3e-07, confidence = 0.5, :\n",
            "“Mining stopped (time limit reached). Only patterns up to a length of 2 returned!”\n"
          ]
        },
        {
          "output_type": "stream",
          "name": "stdout",
          "text": [
            " done [12.66s].\n",
            "writing ... [18329 rule(s)] done [7.31s].\n",
            "creating S4 object  ... done [2.78s].\n"
          ]
        }
      ]
    },
    {
      "cell_type": "code",
      "source": [
        "inspect(head(sort(rules123, by =\"lift\"),n =30))"
      ],
      "metadata": {
        "colab": {
          "base_uri": "https://localhost:8080/"
        },
        "id": "r3kErtj0zEcX",
        "outputId": "1f1cb317-85e8-4357-c594-0d38c86eda19"
      },
      "execution_count": null,
      "outputs": [
        {
          "output_type": "stream",
          "name": "stdout",
          "text": [
            "     lhs                                                      rhs                                                                            support confidence     coverage      lift count\n",
            "[1]  {Miss Treated Conditioner}                            => {Shampoo, Miss Treated, Replenishing, Palmarosa Mint}                     3.110542e-07  1.0000000 3.110542e-07 1607437.0     1\n",
            "[2]  {Shampoo, Miss Treated, Replenishing, Palmarosa Mint} => {Miss Treated Conditioner}                                                3.110542e-07  0.5000000 6.221084e-07 1607437.0     1\n",
            "[3]  {Raspberry Blast Fruit and Chia Seed Bar}             => {Dulse Organic Brown Rice Cakes}                                          3.110542e-07  1.0000000 3.110542e-07 1071624.7     1\n",
            "[4]  {String Of Pearl White Sprinkles}                     => {Holiday Red Sparkling Sugar}                                             3.110542e-07  1.0000000 3.110542e-07 1071624.7     1\n",
            "[5]  {Miss Treated Conditioner}                            => {Whenever Green Tea & Lime Scented Conditioner}                           3.110542e-07  1.0000000 3.110542e-07 1071624.7     1\n",
            "[6]  {Chelated Magnesium 250 Mg Gluten Free}               => {Alive! B-Complex Cherry Flavor Gummies}                                  3.110542e-07  1.0000000 3.110542e-07  803718.5     1\n",
            "[7]  {Flatbread Pizza All Natural}                         => {Cheese & Fresh Herb Flatbread Pizza}                                     3.110542e-07  1.0000000 3.110542e-07  803718.5     1\n",
            "[8]  {Gentle Scrunchies}                                   => {Ponytail Holders}                                                        3.110542e-07  0.5000000 6.221084e-07  803718.5     1\n",
            "[9]  {Ponytail Holders}                                    => {Gentle Scrunchies}                                                       3.110542e-07  0.5000000 6.221084e-07  803718.5     1\n",
            "[10] {Miss Treated Conditioner}                            => {Hair Lotion, Shine & Refine, Coconut}                                    3.110542e-07  1.0000000 3.110542e-07  803718.5     1\n",
            "[11] {Buddy Bear Probiotic Orange Flavor Chewable}         => {Glycerine Soap, Pure and Natural, Cucumber}                              3.110542e-07  1.0000000 3.110542e-07  803718.5     1\n",
            "[12] {Stage 2 Beet Pear Pomegranate Baby Food}             => {Naturals Just Carrot, Corn & Pumpkin Stage 2}                            9.331625e-07  1.0000000 9.331625e-07  803718.5     3\n",
            "[13] {Naturals Just Carrot, Corn & Pumpkin Stage 2}        => {Stage 2 Beet Pear Pomegranate Baby Food}                                 9.331625e-07  0.7500000 1.244217e-06  803718.5     3\n",
            "[14] {Organic Gooseberry Yogurt}                           => {Organic Elderflower}                                                     6.221084e-07  0.6666667 9.331625e-07  714416.4     2\n",
            "[15] {Organic Elderflower}                                 => {Organic Gooseberry Yogurt}                                               6.221084e-07  0.6666667 9.331625e-07  714416.4     2\n",
            "[16] {Blueberry Blast Fruit and Chia Seed Bar}             => {Strawberry Blast Fruit & Chia Seed Bar}                                  3.110542e-07  1.0000000 3.110542e-07  642974.8     1\n",
            "[17] {Original Salted Caramel Protein Energy Bar}          => {Line Express™ Eyeliner - Soft Black 902}                                 3.110542e-07  1.0000000 3.110542e-07  642974.8     1\n",
            "[18] {Kefir Raspberry}                                     => {Organic Blueberry Lowfat Kefir}                                          3.110542e-07  1.0000000 3.110542e-07  642974.8     1\n",
            "[19] {Vanilla Bean Sheep Milk Ice Cream}                   => {Artisan Goat Cheese}                                                     3.110542e-07  1.0000000 3.110542e-07  642974.8     1\n",
            "[20] {Peachtree Schnapps}                                  => {California Madeira}                                                      3.110542e-07  1.0000000 3.110542e-07  535812.3     1\n",
            "[21] {String Of Pearl White Sprinkles}                     => {Confetti Sparkling Sugar}                                                3.110542e-07  1.0000000 3.110542e-07  535812.3     1\n",
            "[22] {Men's Stock Natural Dry Herbal Pine Deodorant}       => {Honeysuckle Rose Moisturizing Shampoo}                                   3.110542e-07  0.5000000 6.221084e-07  535812.3     1\n",
            "[23] {Light Butter Syrup}                                  => {Fruities On-the-Go Apple, Mango, & Carrot Puree}                         3.110542e-07  0.5000000 6.221084e-07  535812.3     1\n",
            "[24] {Spinach Cheese Rice Palak Paneer Dinner}             => {Tots Yogurt Mish Mash Berry Banana Beet}                                 3.110542e-07  1.0000000 3.110542e-07  535812.3     1\n",
            "[25] {Holiday Nutcracker Sweet Black Tea}                  => {Holiday Tea Trio- Dream by the Fire, Comfort and Joy, & Peppermint Bark} 3.110542e-07  0.5000000 6.221084e-07  535812.3     1\n",
            "[26] {Shampoo, Miss Treated, Replenishing, Palmarosa Mint} => {Whenever Green Tea & Lime Scented Conditioner}                           3.110542e-07  0.5000000 6.221084e-07  535812.3     1\n",
            "[27] {Whenever Green Tea & Lime Scent Shampoo}             => {Whenever Green Tea & Lime Scented Conditioner}                           3.110542e-07  0.5000000 6.221084e-07  535812.3     1\n",
            "[28] {Egg Noodles, Toasted Barley Shape}                   => {Orange Flavor Tea Biscuits}                                              3.110542e-07  0.5000000 6.221084e-07  535812.3     1\n",
            "[29] {Brownie Mix 13 x 9 Family Size Dark Chocolate}       => {Instant Pistachio Pudding}                                               3.110542e-07  0.5000000 6.221084e-07  535812.3     1\n",
            "[30] {Asiago All Natural Cheese Aged Over 5 Years}         => {Roasted Garlic & Savory Spices Bread Crumbs}                             3.110542e-07  0.5000000 6.221084e-07  535812.3     1\n"
          ]
        }
      ]
    },
    {
      "cell_type": "code",
      "execution_count": null,
      "metadata": {
        "colab": {
          "base_uri": "https://localhost:8080/"
        },
        "id": "xxyhNmlh3bKN",
        "outputId": "b1f1aabe-b6bc-4ee2-e8a7-d778dd828fe2"
      },
      "outputs": [
        {
          "name": "stdout",
          "output_type": "stream",
          "text": [
            "     lhs                                                  rhs                    support confidence     coverage     lift count\n",
            "[1]  {Dales Pale Ale,                                                                                                          \n",
            "      Lux German Style Lager}                          => {Pinot Noir Rose} 3.110542e-07          1 3.110542e-07 8415.901     1\n",
            "[2]  {Lux German Style Lager,                                                                                                  \n",
            "      Rose}                                            => {Pinot Noir Rose} 3.110542e-07          1 3.110542e-07 8415.901     1\n",
            "[3]  {Amber Ale,                                                                                                               \n",
            "      Lux German Style Lager}                          => {Pinot Noir Rose} 3.110542e-07          1 3.110542e-07 8415.901     1\n",
            "[4]  {Chardonnay,                                                                                                              \n",
            "      Lux German Style Lager}                          => {Pinot Noir Rose} 3.110542e-07          1 3.110542e-07 8415.901     1\n",
            "[5]  {Cardinal Zin Beastly Old Vines Zinfandel,                                                                                \n",
            "      Organic Fruit Yogurt Smoothie Peach Banana}      => {Pinot Noir Rose} 3.110542e-07          1 3.110542e-07 8415.901     1\n",
            "[6]  {Cardinal Zin Beastly Old Vines Zinfandel,                                                                                \n",
            "      Organic Pear Mango Fruit Yogurt Smoothie}        => {Pinot Noir Rose} 3.110542e-07          1 3.110542e-07 8415.901     1\n",
            "[7]  {Cardinal Zin Beastly Old Vines Zinfandel,                                                                                \n",
            "      Fresh Roasted Tomate & Chile Asado Medium Salsa} => {Pinot Noir Rose} 3.110542e-07          1 3.110542e-07 8415.901     1\n",
            "[8]  {Apple Blueberry Fruit Yogurt Smoothie,                                                                                   \n",
            "      Cardinal Zin Beastly Old Vines Zinfandel}        => {Pinot Noir Rose} 3.110542e-07          1 3.110542e-07 8415.901     1\n",
            "[9]  {Cardinal Zin Beastly Old Vines Zinfandel,                                                                                \n",
            "      Organic Fruit Yogurt Smoothie Mixed Berry}       => {Pinot Noir Rose} 3.110542e-07          1 3.110542e-07 8415.901     1\n",
            "[10] {Cardinal Zin Beastly Old Vines Zinfandel,                                                                                \n",
            "      Organic Sweet Potato Puffs}                      => {Pinot Noir Rose} 3.110542e-07          1 3.110542e-07 8415.901     1\n",
            "[11] {Cardinal Zin Beastly Old Vines Zinfandel,                                                                                \n",
            "      Organic Strawberry Banana Fruit Yogurt Smoothie} => {Pinot Noir Rose} 3.110542e-07          1 3.110542e-07 8415.901     1\n",
            "[12] {Force Of Nature Red Paso Robles,                                                                                         \n",
            "      Sonoma Zinfandel}                                => {Pinot Noir Rose} 3.110542e-07          1 3.110542e-07 8415.901     1\n",
            "[13] {Force Of Nature Red Paso Robles,                                                                                         \n",
            "      Vanilla Bottles}                                 => {Pinot Noir Rose} 3.110542e-07          1 3.110542e-07 8415.901     1\n",
            "[14] {Force Of Nature Red Paso Robles,                                                                                         \n",
            "      Rise Krisipies Toasted Rice Cereal}              => {Pinot Noir Rose} 6.221084e-07          1 6.221084e-07 8415.901     2\n",
            "[15] {Force Of Nature Red Paso Robles,                                                                                         \n",
            "      Uncured Genoa Salami}                            => {Pinot Noir Rose} 3.110542e-07          1 3.110542e-07 8415.901     1\n",
            "[16] {Dry Gerwurztraminer,                                                                                                     \n",
            "      Natural White Organic Wine}                      => {Pinot Noir Rose} 3.110542e-07          1 3.110542e-07 8415.901     1\n",
            "[17] {Dry Gerwurztraminer,                                                                                                     \n",
            "      Pinot Noir}                                      => {Pinot Noir Rose} 3.110542e-07          1 3.110542e-07 8415.901     1\n",
            "[18] {Nigori Sake,                                                                                                             \n",
            "      Organic Nama Sake}                               => {Pinot Noir Rose} 3.110542e-07          1 3.110542e-07 8415.901     1\n",
            "[19] {IPA Hop Hunter,                                                                                                          \n",
            "      Organic Nama Sake}                               => {Pinot Noir Rose} 3.110542e-07          1 3.110542e-07 8415.901     1\n",
            "[20] {Organic Nama Sake,                                                                                                       \n",
            "      Vinho Verde}                                     => {Pinot Noir Rose} 3.110542e-07          1 3.110542e-07 8415.901     1\n",
            "[21] {Fresh Squeezed IPA,                                                                                                      \n",
            "      Organic Nama Sake}                               => {Pinot Noir Rose} 3.110542e-07          1 3.110542e-07 8415.901     1\n",
            "[22] {Old Vine Zinfandel Wine,                                                                                                 \n",
            "      Organic Nama Sake}                               => {Pinot Noir Rose} 3.110542e-07          1 3.110542e-07 8415.901     1\n",
            "[23] {India Pale Ale,                                                                                                          \n",
            "      Organic Nama Sake}                               => {Pinot Noir Rose} 3.110542e-07          1 3.110542e-07 8415.901     1\n",
            "[24] {Cabernet Sauvignon,                                                                                                      \n",
            "      Organic Nama Sake}                               => {Pinot Noir Rose} 3.110542e-07          1 3.110542e-07 8415.901     1\n",
            "[25] {Black Lager,                                                                                                             \n",
            "      Chardonnay}                                      => {Pinot Noir Rose} 3.110542e-07          1 3.110542e-07 8415.901     1\n",
            "[26] {Lager, Premium,                                                                                                          \n",
            "      The Original Irish Creme Liquer}                 => {Pinot Noir Rose} 3.110542e-07          1 3.110542e-07 8415.901     1\n",
            "[27] {Lager, Premium,                                                                                                          \n",
            "      Pinot Noir Wine}                                 => {Pinot Noir Rose} 3.110542e-07          1 3.110542e-07 8415.901     1\n",
            "[28] {Lager, Premium,                                                                                                          \n",
            "      Prosciutto}                                      => {Pinot Noir Rose} 3.110542e-07          1 3.110542e-07 8415.901     1\n",
            "[29] {Blanc,                                                                                                                   \n",
            "      Sesame Oil, Toasted}                             => {Pinot Noir Rose} 3.110542e-07          1 3.110542e-07 8415.901     1\n",
            "[30] {Carneros Pinot Noir,                                                                                                     \n",
            "      Essential Red}                                   => {Pinot Noir Rose} 3.110542e-07          1 3.110542e-07 8415.901     1\n"
          ]
        }
      ],
      "source": [
        "inspect(head(sort(rules3.t, by =\"lift\"),n =30))"
      ]
    },
    {
      "cell_type": "code",
      "execution_count": null,
      "metadata": {
        "colab": {
          "base_uri": "https://localhost:8080/",
          "height": 697
        },
        "id": "SJEjv919k5N_",
        "outputId": "8576ee9c-4688-4b33-e80f-e3e75f930a94"
      },
      "outputs": [
        {
          "name": "stderr",
          "output_type": "stream",
          "text": [
            "Warning message:\n",
            "“Unknown control parameters: type”\n"
          ]
        },
        {
          "name": "stdout",
          "output_type": "stream",
          "text": [
            "Available control parameters (with default values):\n",
            "layout\t =  stress\n",
            "circular\t =  FALSE\n",
            "ggraphdots\t =  NULL\n",
            "edges\t =  <environment>\n",
            "nodes\t =  <environment>\n",
            "nodetext\t =  <environment>\n",
            "colors\t =  c(\"#EE0000FF\", \"#EEEEEEFF\")\n",
            "engine\t =  ggplot2\n",
            "max\t =  100\n",
            "verbose\t =  FALSE\n"
          ]
        },
        {
          "name": "stderr",
          "output_type": "stream",
          "text": [
            "Warning message:\n",
            "“ggrepel: 26 unlabeled data points (too many overlaps). Consider increasing max.overlaps”\n"
          ]
        },
        {
          "data": {
            "image/png": "[encoded data removed]",
            "text/plain": [
              "plot without title"
            ]
          },
          "metadata": {
            "image/png": {
              "height": 420,
              "width": 420
            }
          },
          "output_type": "display_data"
        }
      ],
      "source": [
        "plot(rules3.t[1:20],\n",
        "method = \"graph\",\n",
        "control = list(type = \"items\"))"
      ]
    },
    {
      "cell_type": "code",
      "execution_count": null,
      "metadata": {
        "colab": {
          "base_uri": "https://localhost:8080/"
        },
        "id": "LzkqdkO1lxTi",
        "outputId": "87644660-f804-4afa-ae60-5754870d6ea8"
      },
      "outputs": [
        {
          "name": "stdout",
          "output_type": "stream",
          "text": [
            "Apriori\n",
            "\n",
            "Parameter specification:\n",
            " confidence minval smax arem  aval originalSupport maxtime support minlen\n",
            "      1e-09    0.1    1 none FALSE            TRUE       5   1e-09      2\n",
            " maxlen target  ext\n",
            "     10  rules TRUE\n",
            "\n",
            "Algorithmic control:\n",
            " filter tree heap memopt load sort verbose\n",
            "    0.1 TRUE TRUE  FALSE TRUE    2    TRUE\n",
            "\n",
            "Absolute minimum support count: 0 \n",
            "\n",
            "set item appearances ...[7415 item(s)] done [0.01s].\n",
            "set transactions ...[7415 item(s), 3214874 transaction(s)] done [16.11s].\n",
            "sorting and recoding items ... [7415 item(s)] done [0.15s].\n",
            "creating transaction tree ... done [4.35s].\n",
            "checking subsets of size 1 2 3 4"
          ]
        },
        {
          "name": "stderr",
          "output_type": "stream",
          "text": [
            "Warning message in apriori(df.trans.ms, parameter = list(support = 1e-09, confidence = 1e-09), :\n",
            "“Mining stopped (time limit reached). Only patterns up to a length of 4 returned!”\n"
          ]
        },
        {
          "name": "stdout",
          "output_type": "stream",
          "text": [
            " done [10.39s].\n",
            "writing ... [19197890 rule(s)] done [6.52s].\n",
            "creating S4 object  ... done [5.14s].\n"
          ]
        }
      ],
      "source": [
        "rules4.t <- apriori(df.trans.ms, parameter = list(support = 0.000000001, confidence = 0.000000001), appearance=list(rhs=(bottomx), lhs=c(topx)),target = \"rules\", minlen=2)  #\"rhs\" = c(topx)"
      ]
    },
    {
      "cell_type": "code",
      "execution_count": null,
      "metadata": {
        "colab": {
          "base_uri": "https://localhost:8080/",
          "height": 697
        },
        "id": "FP-U-oDx-DuG",
        "outputId": "407be9e0-a407-4b6c-b8fe-30a7eca1483b"
      },
      "outputs": [
        {
          "name": "stderr",
          "output_type": "stream",
          "text": [
            "Warning message:\n",
            "“Unknown control parameters: type”\n"
          ]
        },
        {
          "name": "stdout",
          "output_type": "stream",
          "text": [
            "Available control parameters (with default values):\n",
            "layout\t =  stress\n",
            "circular\t =  FALSE\n",
            "ggraphdots\t =  NULL\n",
            "edges\t =  <environment>\n",
            "nodes\t =  <environment>\n",
            "nodetext\t =  <environment>\n",
            "colors\t =  c(\"#EE0000FF\", \"#EEEEEEFF\")\n",
            "engine\t =  ggplot2\n",
            "max\t =  100\n",
            "verbose\t =  FALSE\n"
          ]
        },
        {
          "name": "stderr",
          "output_type": "stream",
          "text": [
            "Warning message:\n",
            "“ggrepel: 26 unlabeled data points (too many overlaps). Consider increasing max.overlaps”\n"
          ]
        },
        {
          "data": {
            "image/png": "[encoded data removed]",
            "text/plain": [
              "plot without title"
            ]
          },
          "metadata": {
            "image/png": {
              "height": 420,
              "width": 420
            }
          },
          "output_type": "display_data"
        }
      ],
      "source": [
        "plot(rules4.t[1:20],\n",
        "method = \"graph\",\n",
        "control = list(type = \"items\"))"
      ]
    }
  ],
  "metadata": {
    "colab": {
      "collapsed_sections": [
        "4nUVQyxFyeeP",
        "iR4mrME3yvwu"
      ],
      "provenance": [],
      "include_colab_link": true
    },
    "kernelspec": {
      "display_name": "R",
      "name": "ir"
    },
    "language_info": {
      "name": "R"
    }
  },
  "nbformat": 4,
  "nbformat_minor": 0
}